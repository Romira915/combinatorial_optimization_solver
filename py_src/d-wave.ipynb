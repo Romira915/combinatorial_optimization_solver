{
 "cells": [
  {
   "cell_type": "code",
   "execution_count": 186,
   "metadata": {},
   "outputs": [],
   "source": [
    "import numpy as np\n",
    "from dotenv import load_dotenv\n",
    "from dwave.system import DWaveSampler, EmbeddingComposite\n",
    "from numpy import hamming\n",
    "from openjij import SQASampler\n",
    "from pyqubo import Array, Constraint, LogEncInteger, solve_qubo\n",
    "import math\n",
    "import os\n",
    "import dimod"
   ]
  },
  {
   "cell_type": "code",
   "execution_count": 187,
   "metadata": {},
   "outputs": [],
   "source": [
    "load_dotenv()\n",
    "\n",
    "TOKEN = os.getenv(\"TOKEN\")\n",
    "endpoint = \"https://cloud.dwavesys.com/sapi/\""
   ]
  },
  {
   "cell_type": "code",
   "execution_count": 188,
   "metadata": {},
   "outputs": [],
   "source": [
    "W = 750\n",
    "cost = [135, 139, 149, 150, 156, 163, 173,\n",
    "        184, 192, 201, 210, 214, 221, 229, 240]\n",
    "weight = [70, 73, 77, 80, 82, 87, 90, 94, 98, 106, 110, 113, 115, 118, 120]\n",
    "opt = [1, 0, 1, 0, 1, 0, 1, 1, 1, 0, 0, 0, 0, 1, 1]\n",
    "c = {}\n",
    "w = {}\n",
    "N = len(cost)\n",
    "for i in range(N):\n",
    "    c[i] = cost[i]\n",
    "    w[i] = weight[i]"
   ]
  },
  {
   "cell_type": "code",
   "execution_count": 189,
   "metadata": {},
   "outputs": [],
   "source": [
    "x = Array.create('x', shape=(N), vartype='BINARY')\n",
    "y = LogEncInteger(\"y\", (0, W))"
   ]
  },
  {
   "cell_type": "code",
   "execution_count": 190,
   "metadata": {},
   "outputs": [],
   "source": [
    "key1 = max(c, key=lambda k: c[k])\n",
    "B = 1\n",
    "A = B * c[key1] * 2"
   ]
  },
  {
   "cell_type": "code",
   "execution_count": 191,
   "metadata": {},
   "outputs": [],
   "source": [
    "HA = Constraint(\n",
    "    A * (W - sum(w[a] * x[a] for a in range(N)) - y)**2, label='HA'\n",
    ")\n",
    "\n",
    "HB = - B * sum(c[a] * x[a] for a in range(N))"
   ]
  },
  {
   "cell_type": "code",
   "execution_count": 192,
   "metadata": {},
   "outputs": [],
   "source": [
    "H = HA + HB\n",
    "model = H.compile()\n",
    "Q, offset = model.to_qubo()"
   ]
  },
  {
   "cell_type": "code",
   "execution_count": 193,
   "metadata": {},
   "outputs": [],
   "source": [
    "dw_sampler = DWaveSampler(solver='Advantage_system4.1',\n",
    "                          token=TOKEN, endpoint=endpoint)\n",
    "sampler = EmbeddingComposite(dw_sampler)\n",
    "sampleset = sampler.sample_qubo(Q, num_reads=10)"
   ]
  },
  {
   "cell_type": "code",
   "execution_count": 194,
   "metadata": {},
   "outputs": [
    {
     "data": {
      "text/plain": [
       "rec.array([([0, 0, 0, 1, 0, 0, 0, 1, 0, 0, 0, 0, 1, 1, 0, 0, 0, 1, 0, 1, 0, 1, 0, 1, 0], -2.69676266e+08, 1, 0.08),\n",
       "           ([0, 0, 0, 1, 0, 0, 0, 1, 0, 0, 0, 0, 1, 1, 0, 1, 1, 1, 1, 1, 0, 0, 0, 1, 0], -2.67005066e+08, 1, 0.08),\n",
       "           ([0, 0, 0, 1, 0, 0, 0, 1, 0, 0, 0, 1, 1, 1, 0, 0, 1, 0, 1, 0, 0, 1, 0, 1, 0], -2.68601239e+08, 1, 0.12),\n",
       "           ([0, 0, 0, 1, 0, 0, 0, 1, 0, 0, 0, 1, 1, 1, 0, 0, 1, 1, 1, 1, 0, 0, 0, 1, 0], -2.69952919e+08, 1, 0.04),\n",
       "           ([0, 0, 0, 1, 0, 0, 1, 1, 1, 0, 0, 0, 0, 1, 0, 0, 0, 0, 0, 0, 1, 1, 0, 1, 0], -2.69028851e+08, 1, 0.12),\n",
       "           ([1, 1, 1, 0, 0, 0, 0, 0, 0, 0, 1, 1, 1, 0, 0, 1, 1, 1, 1, 0, 1, 1, 1, 0, 0], -2.68652759e+08, 1, 0.08),\n",
       "           ([1, 1, 1, 0, 0, 1, 0, 0, 0, 1, 1, 1, 0, 0, 0, 1, 0, 1, 0, 0, 1, 0, 1, 0, 0], -2.66368171e+08, 1, 0.16),\n",
       "           ([1, 1, 1, 0, 1, 1, 0, 0, 0, 0, 1, 0, 1, 0, 0, 0, 1, 0, 0, 1, 0, 0, 0, 0, 0], -2.69809375e+08, 1, 0.04),\n",
       "           ([1, 1, 1, 0, 1, 0, 0, 0, 0, 1, 1, 0, 1, 0, 0, 0, 0, 1, 1, 1, 1, 1, 0, 0, 0], -2.68895371e+08, 1, 0.12),\n",
       "           ([1, 1, 1, 0, 1, 0, 0, 0, 1, 1, 0, 1, 0, 0, 0, 0, 0, 1, 0, 1, 1, 0, 1, 0, 0], -2.65849747e+08, 1, 0.12)],\n",
       "          dtype=[('sample', 'i1', (25,)), ('energy', '<f8'), ('num_occurrences', '<i8'), ('chain_break_fraction', '<f8')])"
      ]
     },
     "execution_count": 194,
     "metadata": {},
     "output_type": "execute_result"
    }
   ],
   "source": [
    "sampleset.record"
   ]
  },
  {
   "cell_type": "code",
   "execution_count": 195,
   "metadata": {},
   "outputs": [],
   "source": [
    "decoded_sample = model.decode_sample(sampleset.first.sample, vartype=\"BINARY\")"
   ]
  },
  {
   "cell_type": "code",
   "execution_count": 196,
   "metadata": {},
   "outputs": [],
   "source": [
    "cost = 0\n",
    "weight = 0\n",
    "for k in range(N):\n",
    "    if decoded_sample.array('x', k) != 0:\n",
    "        cost += c[k]\n",
    "        weight += w[k]\n",
    "        "
   ]
  },
  {
   "cell_type": "code",
   "execution_count": 197,
   "metadata": {},
   "outputs": [],
   "source": [
    "sol_y = sum(2**k * v for k, v in [(elem, decoded_sample.array('y', elem))\n",
    "            for elem in range(math.ceil(math.log2(W)))])"
   ]
  },
  {
   "cell_type": "code",
   "execution_count": 198,
   "metadata": {},
   "outputs": [
    {
     "name": "stdout",
     "output_type": "stream",
     "text": [
      "スラック変数Y = 286\n",
      "\n",
      "broken\n",
      "{'HA': (False, 48000.0)}\n",
      "cost : 919\n",
      "weight : 474\n"
     ]
    }
   ],
   "source": [
    "print(\"スラック変数Y = {}\".format(sol_y))\n",
    "print()\n",
    "print(\"broken\")\n",
    "print(decoded_sample.constraints(only_broken=True))\n",
    "print(\"cost : \"+str(cost))\n",
    "print(\"weight : \"+str(weight))"
   ]
  },
  {
   "cell_type": "code",
   "execution_count": 199,
   "metadata": {},
   "outputs": [],
   "source": [
    "init = sampleset.samples()[-1]"
   ]
  },
  {
   "cell_type": "code",
   "execution_count": 200,
   "metadata": {},
   "outputs": [],
   "source": [
    "t = (0, 5, 15, 20)\n",
    "s = (1.0, 0.4, 0.4, 1.0)\n",
    "\n",
    "schedule = list(zip(t, s))"
   ]
  },
  {
   "cell_type": "code",
   "execution_count": 201,
   "metadata": {},
   "outputs": [],
   "source": [
    "dw_sampler = DWaveSampler(solver='Advantage_system4.1',\n",
    "                          token=TOKEN, endpoint=endpoint)\n",
    "sampler = EmbeddingComposite(dw_sampler)\n",
    "sampleset = sampler.sample_qubo(\n",
    "    Q, num_reads=10, anneal_schedule=schedule, initial_state=init)"
   ]
  },
  {
   "cell_type": "code",
   "execution_count": 202,
   "metadata": {},
   "outputs": [
    {
     "data": {
      "text/plain": [
       "rec.array([([1, 0, 0, 0, 1, 0, 1, 0, 1, 0, 0, 1, 0, 0, 1, 1, 1, 0, 1, 1, 0, 0, 1, 0, 1], -2.54275747e+08, 1, 0.12),\n",
       "           ([1, 0, 0, 1, 0, 0, 1, 1, 0, 1, 1, 0, 0, 1, 1, 1, 0, 1, 1, 0, 1, 0, 1, 0, 0], -2.61764076e+08, 1, 0.04),\n",
       "           ([0, 1, 0, 0, 0, 0, 1, 1, 1, 1, 0, 0, 0, 1, 1, 1, 1, 0, 1, 1, 1, 0, 0, 0, 1], -2.55468717e+08, 1, 0.  ),\n",
       "           ([1, 0, 0, 0, 0, 1, 0, 1, 0, 1, 0, 0, 1, 1, 0, 1, 1, 1, 0, 0, 1, 0, 0, 1, 0], -2.66450976e+08, 1, 0.08),\n",
       "           ([1, 0, 0, 0, 0, 0, 1, 1, 0, 0, 1, 0, 1, 0, 0, 0, 0, 0, 1, 0, 0, 1, 0, 1, 0], -2.69789090e+08, 1, 0.04),\n",
       "           ([1, 1, 0, 1, 0, 0, 0, 0, 0, 1, 1, 0, 0, 1, 1, 0, 1, 1, 1, 0, 0, 0, 0, 0, 0], -2.67781758e+08, 1, 0.08),\n",
       "           ([1, 0, 0, 1, 0, 1, 0, 1, 1, 0, 1, 0, 1, 1, 1, 1, 1, 1, 0, 1, 0, 0, 0, 0, 0], -2.63089635e+08, 1, 0.  ),\n",
       "           ([0, 1, 1, 1, 0, 0, 1, 0, 1, 1, 1, 0, 0, 1, 0, 1, 1, 0, 1, 0, 1, 1, 0, 0, 0], -2.63653445e+08, 1, 0.08),\n",
       "           ([1, 1, 0, 0, 0, 0, 1, 1, 1, 0, 1, 0, 0, 0, 0, 0, 0, 1, 1, 0, 0, 1, 1, 0, 0], -2.68848466e+08, 1, 0.08),\n",
       "           ([0, 1, 0, 0, 1, 0, 1, 1, 0, 0, 0, 0, 1, 1, 0, 0, 0, 1, 1, 0, 1, 0, 0, 0, 0], -2.61123023e+08, 1, 0.04)],\n",
       "          dtype=[('sample', 'i1', (25,)), ('energy', '<f8'), ('num_occurrences', '<i8'), ('chain_break_fraction', '<f8')])"
      ]
     },
     "execution_count": 202,
     "metadata": {},
     "output_type": "execute_result"
    }
   ],
   "source": [
    "sampleset.record"
   ]
  },
  {
   "cell_type": "code",
   "execution_count": 203,
   "metadata": {},
   "outputs": [],
   "source": [
    "decoded_sample = model.decode_sample(sampleset.first.sample, vartype=\"BINARY\")"
   ]
  },
  {
   "cell_type": "code",
   "execution_count": 204,
   "metadata": {},
   "outputs": [],
   "source": [
    "cost = 0\n",
    "weight = 0\n",
    "for k in range(N):\n",
    "    if decoded_sample.array('x', k) != 0:\n",
    "        cost += c[k]\n",
    "        weight += w[k]"
   ]
  },
  {
   "cell_type": "code",
   "execution_count": 205,
   "metadata": {},
   "outputs": [],
   "source": [
    "sol_y = sum(2**k * v for k, v in [(elem, decoded_sample.array('y', elem))\n",
    "            for elem in range(math.ceil(math.log2(W)))])"
   ]
  },
  {
   "cell_type": "code",
   "execution_count": 206,
   "metadata": {},
   "outputs": [
    {
     "name": "stdout",
     "output_type": "stream",
     "text": [
      "スラック変数Y = 328\n",
      "\n",
      "broken\n",
      "{'HA': (False, 211680.0)}\n",
      "cost : 770\n",
      "weight : 401\n"
     ]
    }
   ],
   "source": [
    "print(\"スラック変数Y = {}\".format(sol_y))\n",
    "print()\n",
    "print(\"broken\")\n",
    "print(decoded_sample.constraints(only_broken=True))\n",
    "print(\"cost : \"+str(cost))\n",
    "print(\"weight : \"+str(weight))"
   ]
  }
 ],
 "metadata": {
  "interpreter": {
   "hash": "b20928de7eb579c6f48ae3119c25db6b3605e1ed7ce240543c84418603b25332"
  },
  "kernelspec": {
   "display_name": "Python 3.10.4 ('reserach')",
   "language": "python",
   "name": "python3"
  },
  "language_info": {
   "codemirror_mode": {
    "name": "ipython",
    "version": 3
   },
   "file_extension": ".py",
   "mimetype": "text/x-python",
   "name": "python",
   "nbconvert_exporter": "python",
   "pygments_lexer": "ipython3",
   "version": "3.10.4"
  },
  "orig_nbformat": 4
 },
 "nbformat": 4,
 "nbformat_minor": 2
}
