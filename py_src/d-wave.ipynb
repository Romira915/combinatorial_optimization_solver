{
 "cells": [
  {
   "cell_type": "code",
   "execution_count": 67,
   "metadata": {},
   "outputs": [],
   "source": [
    "import numpy as np\n",
    "from dotenv import load_dotenv\n",
    "from dwave.system import DWaveSampler, EmbeddingComposite\n",
    "from numpy import hamming\n",
    "from openjij import SQASampler\n",
    "from pyqubo import Array, Constraint, LogEncInteger, solve_qubo\n",
    "import math\n",
    "import os\n",
    "import dimod"
   ]
  },
  {
   "cell_type": "code",
   "execution_count": 68,
   "metadata": {},
   "outputs": [],
   "source": [
    "load_dotenv()\n",
    "\n",
    "TOKEN = os.getenv(\"TOKEN\")\n",
    "endpoint = \"https://cloud.dwavesys.com/sapi/\""
   ]
  },
  {
   "cell_type": "code",
   "execution_count": 69,
   "metadata": {},
   "outputs": [],
   "source": [
    "W = 750\n",
    "cost = [135,\n",
    "        139,\n",
    "        149,\n",
    "        150,\n",
    "        156,\n",
    "        163,\n",
    "        173,\n",
    "        184,\n",
    "        192,\n",
    "        201,\n",
    "        210,\n",
    "        214,\n",
    "        221,\n",
    "        229,\n",
    "        240, ]\n",
    "weight = [70,\n",
    "          73,\n",
    "          77,\n",
    "          80,\n",
    "          82,\n",
    "          87,\n",
    "          90,\n",
    "          94,\n",
    "          98,\n",
    "          106,\n",
    "          110,\n",
    "          113,\n",
    "          115,\n",
    "          118,\n",
    "          120, ]\n",
    "opt = [0,\n",
    "1,\n",
    "0,\n",
    "1,\n",
    "0,\n",
    "0,\n",
    "1]\n",
    "c = {}\n",
    "w = {}\n",
    "N = len(cost)\n",
    "for i in range(N):\n",
    "    c[i] = cost[i]\n",
    "    w[i] = weight[i]"
   ]
  },
  {
   "cell_type": "code",
   "execution_count": 70,
   "metadata": {},
   "outputs": [],
   "source": [
    "x = Array.create('x', shape=(N), vartype='BINARY')\n",
    "y = LogEncInteger(\"y\", (0, W))"
   ]
  },
  {
   "cell_type": "code",
   "execution_count": 71,
   "metadata": {},
   "outputs": [],
   "source": [
    "key1 = max(c, key=lambda k: c[k])\n",
    "B = 1\n",
    "A = B * c[key1] + 1"
   ]
  },
  {
   "cell_type": "code",
   "execution_count": 72,
   "metadata": {},
   "outputs": [],
   "source": [
    "HA = Constraint(\n",
    "    A * (W - sum(w[a] * x[a] for a in range(N)) - y)**2, label='HA'\n",
    ")\n",
    "\n",
    "HB = - B * sum(c[a] * x[a] for a in range(N))"
   ]
  },
  {
   "cell_type": "code",
   "execution_count": 73,
   "metadata": {},
   "outputs": [],
   "source": [
    "H = HA + HB\n",
    "model = H.compile()\n",
    "Q, offset = model.to_qubo()"
   ]
  },
  {
   "cell_type": "code",
   "execution_count": 74,
   "metadata": {},
   "outputs": [],
   "source": [
    "dw_sampler = DWaveSampler(solver='DW_2000Q_6',\n",
    "                          token=TOKEN, endpoint=endpoint)\n",
    "sampler = EmbeddingComposite(dw_sampler)\n",
    "sampleset = sampler.sample_qubo(Q, num_reads=30)"
   ]
  },
  {
   "cell_type": "code",
   "execution_count": 75,
   "metadata": {},
   "outputs": [
    {
     "data": {
      "text/plain": [
       "rec.array([([0, 1, 1, 0, 1, 0, 0, 1, 1, 0, 1, 0, 0, 0, 0, 0, 0, 1, 1, 0, 1, 0, 1, 0, 0], -1.37239159e+08, 1, 0.16),\n",
       "           ([0, 1, 1, 0, 1, 0, 0, 1, 1, 0, 1, 0, 0, 0, 0, 0, 0, 1, 0, 0, 1, 0, 1, 0, 0], -1.37250871e+08, 1, 0.16),\n",
       "           ([0, 1, 1, 0, 1, 0, 0, 1, 1, 0, 1, 0, 0, 0, 0, 1, 0, 1, 1, 0, 1, 0, 1, 1, 0], -1.20245291e+08, 1, 0.16),\n",
       "           ([0, 1, 1, 0, 1, 0, 0, 1, 1, 0, 1, 0, 0, 0, 0, 0, 1, 1, 0, 0, 1, 0, 1, 0, 0], -1.37250871e+08, 1, 0.16),\n",
       "           ([0, 1, 1, 0, 1, 0, 0, 1, 1, 0, 1, 0, 0, 0, 0, 0, 0, 1, 0, 0, 1, 0, 1, 1, 0], -1.21385015e+08, 1, 0.16),\n",
       "           ([0, 1, 1, 0, 1, 0, 0, 1, 1, 0, 1, 0, 0, 0, 0, 1, 1, 0, 0, 0, 1, 0, 1, 0, 0], -1.37250139e+08, 1, 0.16),\n",
       "           ([0, 1, 1, 0, 1, 0, 0, 1, 1, 0, 1, 0, 0, 0, 0, 0, 1, 1, 1, 1, 1, 0, 1, 0, 0], -1.37098615e+08, 1, 0.16),\n",
       "           ([0, 1, 1, 0, 1, 0, 0, 1, 1, 0, 1, 0, 0, 0, 0, 0, 1, 1, 0, 1, 1, 0, 1, 0, 0], -1.37180599e+08, 2, 0.16),\n",
       "           ([0, 1, 1, 0, 1, 0, 0, 1, 1, 0, 1, 0, 0, 0, 0, 0, 1, 1, 0, 0, 0, 0, 1, 0, 0], -1.37016631e+08, 1, 0.16),\n",
       "           ([0, 1, 1, 0, 1, 0, 0, 1, 1, 0, 1, 0, 0, 0, 0, 1, 1, 1, 0, 1, 1, 0, 1, 0, 0], -1.37172059e+08, 1, 0.16),\n",
       "           ([0, 1, 1, 0, 1, 0, 0, 1, 1, 0, 1, 0, 0, 0, 0, 0, 0, 1, 0, 0, 1, 0, 1, 0, 0], -1.37250871e+08, 1, 0.16),\n",
       "           ([0, 1, 1, 0, 1, 0, 0, 1, 1, 0, 1, 0, 0, 0, 0, 1, 0, 1, 1, 1, 0, 0, 1, 0, 0], -1.37235499e+08, 1, 0.16),\n",
       "           ([0, 1, 1, 0, 1, 0, 0, 1, 1, 0, 1, 0, 0, 0, 0, 1, 0, 1, 0, 0, 1, 0, 1, 0, 0], -1.37251115e+08, 1, 0.12),\n",
       "           ([0, 1, 1, 0, 1, 0, 0, 1, 1, 0, 1, 0, 0, 0, 0, 1, 1, 1, 0, 0, 1, 0, 1, 1, 0], -1.21009499e+08, 1, 0.16),\n",
       "           ([0, 1, 1, 0, 1, 0, 0, 1, 1, 0, 1, 0, 0, 0, 0, 1, 1, 1, 0, 0, 1, 0, 1, 0, 0], -1.37250139e+08, 1, 0.12),\n",
       "           ([0, 1, 1, 0, 1, 0, 0, 1, 1, 0, 1, 0, 0, 0, 0, 1, 1, 0, 0, 1, 0, 0, 1, 0, 0], -1.37172059e+08, 1, 0.16),\n",
       "           ([0, 1, 1, 0, 1, 0, 0, 1, 1, 0, 1, 0, 0, 0, 0, 1, 1, 1, 0, 0, 1, 0, 1, 1, 0], -1.21009499e+08, 1, 0.12),\n",
       "           ([0, 1, 1, 0, 1, 0, 0, 1, 1, 0, 1, 0, 0, 0, 0, 0, 0, 1, 0, 1, 1, 0, 1, 0, 0], -1.37196215e+08, 1, 0.16),\n",
       "           ([0, 1, 1, 0, 1, 0, 0, 1, 1, 0, 1, 0, 0, 0, 0, 1, 1, 1, 1, 1, 1, 0, 1, 1, 0], -1.17847259e+08, 1, 0.16),\n",
       "           ([0, 1, 1, 0, 1, 0, 0, 1, 1, 0, 1, 0, 0, 0, 0, 0, 1, 1, 0, 1, 1, 0, 1, 0, 0], -1.37180599e+08, 2, 0.16),\n",
       "           ([0, 1, 1, 0, 1, 0, 0, 1, 1, 0, 1, 0, 0, 0, 0, 0, 0, 1, 1, 0, 1, 0, 1, 0, 0], -1.37239159e+08, 1, 0.2 ),\n",
       "           ([0, 1, 1, 0, 1, 0, 0, 1, 1, 0, 1, 0, 0, 0, 0, 1, 0, 1, 1, 0, 1, 0, 1, 0, 0], -1.37235499e+08, 1, 0.16),\n",
       "           ([0, 1, 1, 0, 1, 0, 0, 1, 1, 0, 1, 1, 0, 0, 0, 0, 0, 1, 1, 0, 1, 0, 1, 0, 0], -1.34955492e+08, 1, 0.2 ),\n",
       "           ([0, 0, 0, 1, 0, 1, 0, 0, 0, 1, 0, 1, 1, 1, 1, 1, 1, 1, 0, 1, 0, 1, 0, 1, 0], -1.15583191e+08, 1, 0.12),\n",
       "           ([0, 0, 0, 1, 0, 1, 0, 0, 0, 1, 0, 1, 1, 1, 1, 0, 1, 1, 0, 0, 0, 1, 0, 1, 0], -1.17984883e+08, 1, 0.16),\n",
       "           ([0, 0, 0, 1, 0, 1, 0, 0, 0, 1, 0, 1, 1, 1, 1, 0, 0, 1, 1, 0, 0, 1, 0, 1, 0], -1.17153331e+08, 1, 0.12),\n",
       "           ([0, 0, 0, 1, 0, 1, 0, 0, 0, 1, 0, 1, 1, 1, 1, 0, 1, 0, 0, 1, 0, 1, 0, 1, 0], -1.16304211e+08, 1, 0.16),\n",
       "           ([1, 0, 0, 1, 0, 1, 0, 0, 0, 1, 0, 1, 1, 1, 1, 1, 1, 0, 0, 0, 1, 1, 0, 1, 0], -1.02017902e+08, 1, 0.2 )],\n",
       "          dtype=[('sample', 'i1', (25,)), ('energy', '<f8'), ('num_occurrences', '<i8'), ('chain_break_fraction', '<f8')])"
      ]
     },
     "execution_count": 75,
     "metadata": {},
     "output_type": "execute_result"
    }
   ],
   "source": [
    "sampleset.record"
   ]
  },
  {
   "cell_type": "code",
   "execution_count": 76,
   "metadata": {},
   "outputs": [],
   "source": [
    "decoded_sample = model.decode_sample(sampleset.first.sample, vartype=\"BINARY\")"
   ]
  },
  {
   "cell_type": "code",
   "execution_count": 77,
   "metadata": {},
   "outputs": [],
   "source": [
    "cost = 0\n",
    "weight = 0\n",
    "for k in range(N):\n",
    "    if decoded_sample.array('x', k) != 0:\n",
    "        cost += c[k]\n",
    "        weight += w[k]"
   ]
  },
  {
   "cell_type": "code",
   "execution_count": 78,
   "metadata": {},
   "outputs": [],
   "source": [
    "sol_y = sum(2**k * v for k, v in [(elem, decoded_sample.array('y', elem))\n",
    "            for elem in range(math.ceil(math.log2(W)))])"
   ]
  },
  {
   "cell_type": "code",
   "execution_count": 79,
   "metadata": {},
   "outputs": [
    {
     "name": "stdout",
     "output_type": "stream",
     "text": [
      "スラック変数Y = 165\n",
      "\n",
      "broken\n",
      "{}\n",
      "cost : 1115\n",
      "weight : 585\n"
     ]
    }
   ],
   "source": [
    "print(\"スラック変数Y = {}\".format(sol_y))\n",
    "print()\n",
    "print(\"broken\")\n",
    "print(decoded_sample.constraints(only_broken=True))\n",
    "print(\"cost : \"+str(cost))\n",
    "print(\"weight : \"+str(weight))"
   ]
  },
  {
   "cell_type": "code",
   "execution_count": 80,
   "metadata": {},
   "outputs": [],
   "source": [
    "init = sampleset.samples()[-1]"
   ]
  },
  {
   "cell_type": "markdown",
   "metadata": {},
   "source": [
    "最悪値"
   ]
  },
  {
   "cell_type": "code",
   "execution_count": 81,
   "metadata": {},
   "outputs": [],
   "source": [
    "sol_y = sum(2**k * v for k, v in [(elem, decoded_sample.array('y', elem))\n",
    "            for elem in range(math.ceil(math.log2(W)))])"
   ]
  },
  {
   "cell_type": "code",
   "execution_count": 82,
   "metadata": {},
   "outputs": [],
   "source": [
    "t = (0, 5, 20)\n",
    "s = (1.0, 0.4, 1.0)\n",
    "\n",
    "schedule = list(zip(t, s))"
   ]
  },
  {
   "cell_type": "code",
   "execution_count": 83,
   "metadata": {},
   "outputs": [],
   "source": [
    "dw_sampler = DWaveSampler(solver='DW_2000Q_6',\n",
    "                          token=TOKEN, endpoint=endpoint)\n",
    "sampler = EmbeddingComposite(dw_sampler)\n",
    "sampleset = sampler.sample_qubo(\n",
    "    Q, num_reads=30, anneal_schedule=schedule, initial_state=init)"
   ]
  },
  {
   "cell_type": "code",
   "execution_count": 84,
   "metadata": {},
   "outputs": [
    {
     "data": {
      "text/plain": [
       "rec.array([([1, 0, 0, 0, 0, 1, 0, 0, 1, 1, 0, 1, 1, 0, 1, 1, 0, 0, 1, 0, 0, 1, 0, 0, 1], -1.27096935e+08, 1, 0.2 ),\n",
       "           ([1, 0, 0, 0, 0, 1, 0, 0, 1, 0, 0, 1, 0, 0, 1, 1, 1, 0, 0, 0, 0, 1, 1, 0, 1], -1.31760899e+08, 1, 0.12),\n",
       "           ([1, 0, 0, 0, 0, 1, 0, 0, 1, 0, 0, 1, 0, 0, 1, 1, 0, 1, 0, 1, 0, 1, 0, 1, 1], -1.15872595e+08, 1, 0.12),\n",
       "           ([1, 0, 0, 0, 0, 1, 0, 0, 1, 1, 0, 1, 0, 0, 1, 1, 1, 1, 0, 0, 0, 1, 1, 0, 1], -1.23661231e+08, 1, 0.12),\n",
       "           ([1, 0, 0, 0, 0, 1, 0, 0, 1, 0, 0, 1, 0, 0, 1, 1, 1, 0, 1, 0, 0, 1, 0, 1, 1], -1.17292675e+08, 1, 0.08),\n",
       "           ([1, 0, 0, 0, 0, 1, 0, 0, 1, 0, 0, 0, 1, 0, 1, 1, 1, 1, 0, 0, 0, 1, 0, 0, 1], -1.37031310e+08, 1, 0.16),\n",
       "           ([0, 0, 0, 1, 0, 0, 0, 1, 0, 1, 0, 0, 1, 1, 0, 1, 1, 0, 1, 1, 0, 0, 1, 0, 1], -1.34298502e+08, 1, 0.08),\n",
       "           ([1, 0, 0, 0, 0, 1, 0, 0, 1, 0, 0, 1, 0, 0, 1, 1, 0, 0, 0, 1, 0, 1, 1, 0, 1], -1.30688275e+08, 1, 0.12),\n",
       "           ([1, 0, 0, 0, 0, 1, 0, 0, 1, 1, 0, 0, 0, 0, 1, 1, 1, 0, 0, 0, 0, 1, 1, 0, 1], -1.32330866e+08, 1, 0.16),\n",
       "           ([1, 0, 0, 0, 0, 1, 0, 0, 1, 0, 0, 0, 1, 0, 1, 1, 0, 0, 0, 0, 0, 1, 0, 0, 1], -1.37110366e+08, 1, 0.16),\n",
       "           ([0, 0, 0, 0, 0, 1, 0, 0, 1, 1, 0, 1, 0, 0, 1, 1, 1, 0, 1, 0, 0, 1, 1, 0, 1], -1.30199320e+08, 1, 0.2 ),\n",
       "           ([1, 0, 0, 0, 0, 1, 0, 0, 1, 0, 0, 1, 0, 0, 1, 1, 0, 1, 1, 0, 1, 1, 1, 0, 1], -1.28256083e+08, 1, 0.12),\n",
       "           ([1, 0, 0, 0, 0, 1, 0, 0, 1, 1, 0, 0, 1, 0, 1, 1, 1, 0, 1, 0, 1, 0, 0, 0, 1], -1.35529402e+08, 1, 0.08),\n",
       "           ([1, 0, 0, 0, 0, 1, 0, 0, 1, 0, 0, 1, 1, 0, 1, 1, 1, 0, 0, 0, 0, 1, 0, 0, 1], -1.33967819e+08, 1, 0.16),\n",
       "           ([1, 0, 0, 0, 0, 1, 0, 0, 1, 1, 0, 1, 0, 0, 1, 1, 1, 0, 0, 0, 0, 1, 0, 1, 1], -1.05628655e+08, 1, 0.16),\n",
       "           ([0, 0, 0, 0, 0, 1, 0, 0, 1, 1, 0, 1, 1, 0, 1, 1, 1, 1, 1, 1, 0, 1, 0, 0, 1], -1.31313120e+08, 1, 0.16),\n",
       "           ([0, 0, 0, 0, 0, 0, 0, 0, 0, 1, 0, 1, 1, 0, 0, 1, 1, 1, 0, 0, 1, 0, 1, 1, 1], -1.29519617e+08, 1, 0.08),\n",
       "           ([1, 0, 0, 0, 0, 1, 0, 0, 1, 0, 0, 1, 0, 0, 1, 1, 0, 0, 0, 0, 0, 1, 1, 0, 1], -1.31906323e+08, 1, 0.16),\n",
       "           ([0, 0, 0, 0, 0, 1, 0, 0, 1, 1, 0, 1, 1, 0, 1, 1, 1, 0, 1, 0, 1, 1, 0, 0, 1], -1.30364448e+08, 1, 0.16),\n",
       "           ([1, 0, 0, 1, 0, 0, 0, 0, 0, 0, 1, 0, 1, 1, 0, 1, 0, 0, 0, 1, 1, 0, 1, 0, 1], -1.33127295e+08, 1, 0.08),\n",
       "           ([1, 0, 0, 0, 0, 1, 0, 0, 1, 0, 0, 1, 0, 0, 1, 0, 0, 0, 1, 0, 1, 1, 1, 0, 1], -1.28718463e+08, 1, 0.12),\n",
       "           ([1, 0, 0, 0, 0, 1, 0, 0, 1, 1, 0, 1, 0, 0, 1, 1, 1, 0, 1, 0, 1, 1, 1, 0, 1], -1.19198959e+08, 1, 0.16),\n",
       "           ([1, 0, 0, 0, 0, 1, 0, 0, 1, 0, 0, 1, 0, 0, 1, 1, 0, 0, 1, 1, 0, 1, 1, 0, 1], -1.30032403e+08, 1, 0.16),\n",
       "           ([1, 0, 0, 1, 0, 0, 0, 1, 0, 0, 0, 0, 0, 1, 0, 1, 1, 0, 0, 0, 1, 0, 1, 0, 1], -1.37215561e+08, 1, 0.08),\n",
       "           ([1, 0, 0, 0, 0, 1, 0, 0, 1, 1, 0, 1, 1, 0, 1, 1, 0, 0, 1, 1, 0, 1, 1, 0, 1], -1.07701863e+08, 1, 0.2 ),\n",
       "           ([0, 0, 0, 0, 0, 1, 0, 0, 1, 1, 0, 0, 1, 0, 1, 1, 1, 0, 1, 0, 1, 0, 0, 0, 1], -1.37203107e+08, 1, 0.12),\n",
       "           ([1, 0, 0, 0, 0, 1, 0, 0, 1, 0, 0, 0, 1, 0, 1, 1, 1, 0, 1, 0, 1, 1, 0, 0, 1], -1.36188046e+08, 1, 0.12),\n",
       "           ([1, 0, 0, 0, 0, 1, 0, 0, 1, 0, 0, 1, 1, 0, 1, 1, 1, 0, 1, 0, 1, 1, 0, 0, 1], -1.31313099e+08, 1, 0.2 ),\n",
       "           ([0, 0, 0, 0, 0, 1, 0, 0, 1, 1, 0, 1, 0, 0, 1, 1, 1, 0, 1, 1, 1, 1, 1, 0, 1], -1.25655064e+08, 1, 0.16),\n",
       "           ([1, 0, 0, 0, 0, 1, 0, 0, 1, 0, 0, 1, 0, 0, 1, 1, 1, 0, 1, 0, 0, 0, 1, 0, 1], -1.35094915e+08, 1, 0.12)],\n",
       "          dtype=[('sample', 'i1', (25,)), ('energy', '<f8'), ('num_occurrences', '<i8'), ('chain_break_fraction', '<f8')])"
      ]
     },
     "execution_count": 84,
     "metadata": {},
     "output_type": "execute_result"
    }
   ],
   "source": [
    "sampleset.record"
   ]
  },
  {
   "cell_type": "code",
   "execution_count": 85,
   "metadata": {},
   "outputs": [],
   "source": [
    "decoded_sample = model.decode_sample(sampleset.first.sample, vartype=\"BINARY\")"
   ]
  },
  {
   "cell_type": "code",
   "execution_count": 86,
   "metadata": {},
   "outputs": [],
   "source": [
    "cost = 0\n",
    "weight = 0\n",
    "for k in range(N):\n",
    "    if decoded_sample.array('x', k) != 0:\n",
    "        cost += c[k]\n",
    "        weight += w[k]"
   ]
  },
  {
   "cell_type": "code",
   "execution_count": 87,
   "metadata": {},
   "outputs": [],
   "source": [
    "sol_y = sum(2**k * v for k, v in [(elem, decoded_sample.array('y', elem))\n",
    "            for elem in range(math.ceil(math.log2(W)))])"
   ]
  },
  {
   "cell_type": "code",
   "execution_count": 88,
   "metadata": {},
   "outputs": [
    {
     "name": "stdout",
     "output_type": "stream",
     "text": [
      "スラック変数Y = 675\n",
      "\n",
      "broken\n",
      "{'HA': (False, 35136.0)}\n",
      "cost : 697\n",
      "weight : 360\n"
     ]
    }
   ],
   "source": [
    "print(\"スラック変数Y = {}\".format(sol_y))\n",
    "print()\n",
    "print(\"broken\")\n",
    "print(decoded_sample.constraints(only_broken=True))\n",
    "print(\"cost : \"+str(cost))\n",
    "print(\"weight : \"+str(weight))"
   ]
  }
 ],
 "metadata": {
  "kernelspec": {
   "display_name": "Python 3.10.4 ('reserach')",
   "language": "python",
   "name": "python3"
  },
  "language_info": {
   "codemirror_mode": {
    "name": "ipython",
    "version": 3
   },
   "file_extension": ".py",
   "mimetype": "text/x-python",
   "name": "python",
   "nbconvert_exporter": "python",
   "pygments_lexer": "ipython3",
   "version": "3.10.4"
  },
  "orig_nbformat": 4,
  "vscode": {
   "interpreter": {
    "hash": "b20928de7eb579c6f48ae3119c25db6b3605e1ed7ce240543c84418603b25332"
   }
  }
 },
 "nbformat": 4,
 "nbformat_minor": 2
}
