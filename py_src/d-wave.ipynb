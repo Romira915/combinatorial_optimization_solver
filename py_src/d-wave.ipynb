{
 "cells": [
  {
   "cell_type": "code",
   "execution_count": 364,
   "metadata": {},
   "outputs": [],
   "source": [
    "import numpy as np\n",
    "from dotenv import load_dotenv\n",
    "from dwave.system import DWaveSampler, EmbeddingComposite\n",
    "from numpy import hamming\n",
    "from openjij import SQASampler\n",
    "import openjij\n",
    "from pyqubo import Array, Constraint, LogEncInteger, solve_qubo\n",
    "import math\n",
    "import os\n",
    "import dimod\n",
    "from minorminer import find_embedding\n",
    "from dwave.system import FixedEmbeddingComposite\n",
    "from dwave.embedding import embed_bqm\n",
    "from dwave.embedding import MinimizeEnergy\n",
    "from matplotlib import pyplot as plt\n",
    "import sklearn\n",
    "import itertools\n",
    "from copy import copy, deepcopy\n",
    "import pandas as pd"
   ]
  },
  {
   "cell_type": "code",
   "execution_count": 365,
   "metadata": {},
   "outputs": [],
   "source": [
    "load_dotenv()\n",
    "\n",
    "TOKEN = os.getenv(\"TOKEN\")\n",
    "endpoint = \"https://cloud.dwavesys.com/sapi/\"\n",
    "solver = \"QA\"\n",
    "num_reads = 3000"
   ]
  },
  {
   "cell_type": "code",
   "execution_count": 366,
   "metadata": {},
   "outputs": [],
   "source": [
    "W = 750\n",
    "cost_list = [135,\n",
    "             139,\n",
    "             149,\n",
    "             150,\n",
    "             156,\n",
    "             163,\n",
    "             173,\n",
    "             184,\n",
    "             192,\n",
    "             201,\n",
    "             210,\n",
    "             214,\n",
    "             221,\n",
    "             229,\n",
    "             240, ]\n",
    "weight_list = [70,\n",
    "               73,\n",
    "               77,\n",
    "               80,\n",
    "               82,\n",
    "               87,\n",
    "               90,\n",
    "               94,\n",
    "               98,\n",
    "               106,\n",
    "               110,\n",
    "               113,\n",
    "               115,\n",
    "               118,\n",
    "               120, ]\n",
    "opt = [0,\n",
    "0,\n",
    "0,\n",
    "0,\n",
    "0,\n",
    "0,\n",
    "1,\n",
    "0,\n",
    "0,\n",
    "0,\n",
    "1,\n",
    "0,\n",
    "1,\n",
    "1,\n",
    "0,\n",
    "0,\n",
    "0,\n",
    "0,\n",
    "0,\n",
    "0,\n",
    "0,\n",
    "0,\n",
    "0,\n",
    "1,\n",
    "0,\n",
    "1,\n",
    "0,\n",
    "0,\n",
    "0,\n",
    "0,\n",
    "1,\n",
    "0,\n",
    "1,\n",
    "0,\n",
    "0,\n",
    "0,\n",
    "0,\n",
    "1,\n",
    "1,\n",
    "0,\n",
    "0,\n",
    "0,\n",
    "0,\n",
    "0,\n",
    "0,\n",
    "0,\n",
    "0,\n",
    "0,\n",
    "1,\n",
    "0,]\n",
    "N = len(cost_list)"
   ]
  },
  {
   "cell_type": "code",
   "execution_count": 367,
   "metadata": {},
   "outputs": [],
   "source": [
    "x = Array.create('x', shape=(N), vartype='BINARY')\n",
    "y = LogEncInteger(\"y\", (0, W))"
   ]
  },
  {
   "cell_type": "code",
   "execution_count": 368,
   "metadata": {},
   "outputs": [],
   "source": [
    "# key1 = max(cost_list, key=lambda k: cost_list[k])\n",
    "max_c = max(cost_list)\n",
    "B = 1\n",
    "A = B * max_c * 2"
   ]
  },
  {
   "cell_type": "code",
   "execution_count": 369,
   "metadata": {},
   "outputs": [],
   "source": [
    "HA = Constraint(\n",
    "    A * (W - sum(weight_list[a] * x[a] for a in range(N)) - y)**2, label='HA'\n",
    ")\n",
    "\n",
    "HB = - B * sum(cost_list[a] * x[a] for a in range(N))"
   ]
  },
  {
   "cell_type": "code",
   "execution_count": 370,
   "metadata": {},
   "outputs": [],
   "source": [
    "H = HA + HB\n",
    "model = H.compile()\n",
    "Q, offset = model.to_qubo()"
   ]
  },
  {
   "cell_type": "code",
   "execution_count": 371,
   "metadata": {},
   "outputs": [
    {
     "name": "stdout",
     "output_type": "stream",
     "text": [
      "setting DW sampler\n"
     ]
    }
   ],
   "source": [
    "if solver == \"QA\":\n",
    "    dw_sampler = DWaveSampler(solver='Advantage_system6.1',\n",
    "                            token=TOKEN, endpoint=endpoint)\n",
    "    adj = {}\n",
    "    for k in Q.keys():\n",
    "        adj[k] = 1\n",
    "    embedding = find_embedding(adj, dw_sampler.edgelist)\n",
    "    # bqm_embed = embed_bqm(bqm, embedding, dw_sampler.adjacency)\n",
    "    sampler = FixedEmbeddingComposite(dw_sampler, embedding)\n",
    "    # sampler = EmbeddingComposite(dw_sampler)\n",
    "    # sampleset_embed = dw_sampler.sample(bqm_embed, num_reads=10)\n",
    "    print(\"setting DW sampler\")\n",
    "else:\n",
    "    sampler = SQASampler(num_reads=num_reads)\n",
    "    print(\"setting SQA sampler\")"
   ]
  },
  {
   "cell_type": "code",
   "execution_count": 372,
   "metadata": {},
   "outputs": [
    {
     "name": "stdout",
     "output_type": "stream",
     "text": [
      "[[(0, 0), (20, 1)], [(0, 0), (5, 0.5), (15, 0.5), (20, 1)], [(0, 0), (5, 0.5), (6, 1), (20, 1)], [(0, 0), (9, 0.5), (10, 1), (20, 1)], [(0, 0), (19, 0.5), (20, 1)]]\n"
     ]
    }
   ],
   "source": [
    "t = [(0, 20), (0, 5, 15, 20), (0, 5, 6, 20), (0, 9, 10, 20), (0, 19, 20)]\n",
    "s = [(0, 1), (0, 0.5, 0.5, 1), (0, 0.5, 1, 1), (0, 0.5, 1, 1), (0, 0.5, 1)]\n",
    "\n",
    "schedules = [list(zip(t[i], s[i])) for i in range(len(t))]\n",
    "print(schedules)\n"
   ]
  },
  {
   "cell_type": "code",
   "execution_count": 373,
   "metadata": {},
   "outputs": [],
   "source": [
    "def plot_schedules(t, s, save_path=\"output.jpg\", title=None):\n",
    "    fig, ax = plt.subplots(1, len(t))\n",
    "    fig.set_figwidth(5 * len(t))\n",
    "    for i in range(len(t)):\n",
    "        ax[i].plot(t[i], s[i])\n",
    "        ax[i].set_xlim(-1.0, 21.0)\n",
    "        ax[i].set_ylim(-0.1, 1.1)\n",
    "        if not title == None:\n",
    "            ax[i].set_title(title[i].upper())\n",
    "\n",
    "    plt.tight_layout()\n",
    "    plt.savefig(save_path)"
   ]
  },
  {
   "cell_type": "code",
   "execution_count": 374,
   "metadata": {},
   "outputs": [
    {
     "data": {
      "image/png": "[encoded data removed]",
      "text/plain": [
       "<Figure size 1800x288 with 5 Axes>"
      ]
     },
     "metadata": {
      "needs_background": "light"
     },
     "output_type": "display_data"
    }
   ],
   "source": [
    "plot_schedules(t, s, \"anneal_schedule.jpg\")"
   ]
  },
  {
   "cell_type": "code",
   "execution_count": 375,
   "metadata": {},
   "outputs": [
    {
     "name": "stdout",
     "output_type": "stream",
     "text": [
      "annealing start\n",
      "annealing end\n",
      "annealing start\n",
      "annealing end\n",
      "annealing start\n",
      "annealing end\n",
      "annealing start\n",
      "annealing end\n",
      "annealing start\n",
      "annealing end\n"
     ]
    }
   ],
   "source": [
    "samplesets = []\n",
    "for schedule in schedules:\n",
    "    print(\"annealing start\")\n",
    "    if solver == \"QA\":\n",
    "        samplesets.append(sampler.sample_qubo(\n",
    "            Q, num_reads=num_reads, anneal_schedule=schedule))\n",
    "    else:\n",
    "        samplesets.append(sampler.sample_qubo(Q))\n",
    "    print(\"annealing end\")"
   ]
  },
  {
   "cell_type": "code",
   "execution_count": 376,
   "metadata": {},
   "outputs": [],
   "source": [
    "def dict_from_sampleview(sampleview):\n",
    "    d = {}\n",
    "\n",
    "    for key in sampleview.keys():\n",
    "        d[key] = sampleview.get(key)\n",
    "    \n",
    "    return d"
   ]
  },
  {
   "cell_type": "code",
   "execution_count": 377,
   "metadata": {},
   "outputs": [],
   "source": [
    "def transform_sample(sampleset, schedule, model):\n",
    "    # decoded_samples = model.decode_sampleset(\n",
    "    #     sampleset=sampleset, vartype=\"BINARY\")\n",
    "    decoded_samples = []\n",
    "    for sample, record in zip(sampleset, sampleset.record):\n",
    "        decoded_sample = model.decode_sample(\n",
    "            dict_from_sampleview(sample), vartype=\"BINARY\")\n",
    "        decoded_samples.append((decoded_sample, record[1]))\n",
    "\n",
    "    value_set = []\n",
    "    for decoded_sample, energy in decoded_samples:\n",
    "        cost = 0\n",
    "        weight = 0\n",
    "        for k in range(N):\n",
    "            if decoded_sample.array('x', k) != 0:\n",
    "                cost += cost_list[k]\n",
    "                weight += weight_list[k]\n",
    "\n",
    "        sol_y = sum(2**k * v for k, v in [(elem, decoded_sample.array('y', elem))\n",
    "                                          for elem in range(math.ceil(math.log2(W)))])\n",
    "\n",
    "        value_set.append(\n",
    "            {\"cost\": cost, \"weight\": weight, \"energy\": energy, \"sol_y\": sol_y, \"broken\": decoded_sample.constraints(only_broken=True)})\n",
    "\n",
    "    value_df = pd.DataFrame(value_set)\n",
    "    value_df_sorted_cost = value_df[value_df[\"weight\"] <= W].sort_values(by=[\n",
    "                                                                    \"cost\"])\n",
    "    value_max = value_df_sorted_cost.loc[value_df_sorted_cost[\"cost\"].idxmax()]\n",
    "    value_min = value_df_sorted_cost.loc[value_df_sorted_cost[\"cost\"].idxmin()]\n",
    "    \n",
    "    # value_df_sorted_by_energy = value_df.sort_values(by=[\"energy\"])\n",
    "\n",
    "    return {\"anneal_time\": sampleset.info[\"timing\"][\"qpu_anneal_time_per_sample\"], \"anneal_schedule\": schedule, \"info_sets\": value_set, \"best_value\": value_max, \"worst_value\": value_min, \"dataframe\": value_df}\n",
    "\n",
    "\n",
    "def v_transform_sample(samplesets, schedules, model):\n",
    "    if type(samplesets) == list:\n",
    "        sample_info = []\n",
    "        for (sampleset, schedule) in zip(samplesets, schedules):\n",
    "            sample_info.append(transform_sample(sampleset, schedule, model))\n",
    "        return sample_info\n",
    "    else:\n",
    "        return transform_sample(transform_sample(samplesets, schedules, model))\n"
   ]
  },
  {
   "cell_type": "code",
   "execution_count": 378,
   "metadata": {},
   "outputs": [],
   "source": [
    "def output_sample_info(sample_info):\n",
    "    print(\"anneal time = {}\".format(sample_info[\"anneal_time\"]))\n",
    "    print(\"anneal schedule = {}\".format(sample_info[\"anneal_schedule\"]))\n",
    "    print(\"----- best ------\")\n",
    "    print(\"slack_Y = {}\".format(sample_info[\"best_value\"][\"sol_y\"]))\n",
    "    print(\"broken: {}\".format(sample_info[\"best_value\"][\"broken\"]))\n",
    "    print(\"cost : \"+str(sample_info[\"best_value\"][\"cost\"]))\n",
    "    print(\"weight : \"+str(sample_info[\"best_value\"][\"weight\"]))\n",
    "    print(\"-----------------\")\n",
    "    print(\"----- worst -----\")\n",
    "    print(\"slack_Y = {}\".format(sample_info[\"worst_value\"][\"sol_y\"]))\n",
    "    print(\"broken: {}\".format(sample_info[\"worst_value\"][\"broken\"]))\n",
    "    print(\"cost : \"+str(sample_info[\"worst_value\"][\"cost\"]))\n",
    "    print(\"weight : \"+str(sample_info[\"worst_value\"][\"weight\"]))\n",
    "    print(\"-----describe----\")\n",
    "    print(\"describe\")\n",
    "    print(sample_info[\"dataframe\"].describe())\n",
    "    print()\n",
    "\n",
    "def v_output_sample_info(samples_info):\n",
    "    if type(samples_info) == list:\n",
    "        for sample_info in samples_info:\n",
    "            output_sample_info(sample_info)\n",
    "    else:\n",
    "        output_sample_info(samples_info)"
   ]
  },
  {
   "cell_type": "code",
   "execution_count": 379,
   "metadata": {},
   "outputs": [
    {
     "name": "stdout",
     "output_type": "stream",
     "text": [
      "anneal time = 20.0\n",
      "anneal schedule = [(0, 0), (20, 1)]\n",
      "----- best ------\n",
      "slack_Y = 44\n",
      "broken: {'HA': (False, 929280.0)}\n",
      "cost : 1446\n",
      "weight : 750\n",
      "-----------------\n",
      "----- worst -----\n",
      "slack_Y = 839\n",
      "broken: {'HA': (False, 806880.0)}\n",
      "cost : 274\n",
      "weight : 143\n",
      "-----describe----\n",
      "describe\n",
      "              cost       weight        energy        sol_y\n",
      "count  2985.000000  2985.000000  2.985000e+03  2985.000000\n",
      "mean   1118.605360   583.410720 -2.653531e+08   255.381575\n",
      "std     240.479751   125.440872  6.464980e+06   252.565069\n",
      "min     274.000000   143.000000 -2.700013e+08     0.000000\n",
      "25%     960.000000   499.000000 -2.694786e+08    70.000000\n",
      "50%    1131.000000   590.000000 -2.679102e+08   114.000000\n",
      "75%    1292.000000   675.000000 -2.639800e+08   388.000000\n",
      "max    1902.000000   991.000000 -2.189886e+08   992.000000\n",
      "\n",
      "anneal time = 20.0\n",
      "anneal schedule = [(0, 0), (5, 0.5), (15, 0.5), (20, 1)]\n",
      "----- best ------\n",
      "slack_Y = 17\n",
      "broken: {'HA': (False, 138720.0)}\n",
      "cost : 1448\n",
      "weight : 750\n",
      "-----------------\n",
      "----- worst -----\n",
      "slack_Y = 1019\n",
      "broken: {'HA': (False, 2772480.0)}\n",
      "cost : 150\n",
      "weight : 80\n",
      "-----describe----\n",
      "describe\n",
      "              cost       weight        energy        sol_y\n",
      "count  2988.000000  2988.000000  2.988000e+03  2988.000000\n",
      "mean   1121.057564   584.920013 -2.660026e+08   229.385877\n",
      "std     237.884114   124.164618  6.199846e+06   241.528950\n",
      "min     150.000000    80.000000 -2.700014e+08     0.000000\n",
      "25%     963.000000   502.750000 -2.696249e+08    66.000000\n",
      "50%    1140.000000   594.000000 -2.683862e+08   107.000000\n",
      "75%    1290.250000   674.000000 -2.650072e+08   345.250000\n",
      "max    1742.000000   910.000000 -2.032195e+08  1019.000000\n",
      "\n",
      "anneal time = 20.0\n",
      "anneal schedule = [(0, 0), (5, 0.5), (6, 1), (20, 1)]\n",
      "----- best ------\n",
      "slack_Y = 47\n",
      "broken: {'HA': (False, 972000.0)}\n",
      "cost : 1445\n",
      "weight : 748\n",
      "-----------------\n",
      "----- worst -----\n",
      "slack_Y = 496\n",
      "broken: {'HA': (False, 1905120.0)}\n",
      "cost : 368\n",
      "weight : 191\n",
      "-----describe----\n",
      "describe\n",
      "              cost       weight        energy        sol_y\n",
      "count  2991.000000  2991.000000  2.991000e+03  2991.000000\n",
      "mean   1111.565028   579.960883 -2.657545e+08   231.940488\n",
      "std     238.704446   124.435897  6.122941e+06   242.341127\n",
      "min     368.000000   191.000000 -2.700014e+08     0.000000\n",
      "25%     959.500000   502.000000 -2.695973e+08    65.000000\n",
      "50%    1130.000000   588.000000 -2.680960e+08   108.000000\n",
      "75%    1282.000000   670.000000 -2.645056e+08   359.500000\n",
      "max    1856.000000   965.000000 -2.074472e+08  1016.000000\n",
      "\n",
      "anneal time = 20.0\n",
      "anneal schedule = [(0, 0), (9, 0.5), (10, 1), (20, 1)]\n",
      "----- best ------\n",
      "slack_Y = 6\n",
      "broken: {'HA': (False, 12000.0)}\n",
      "cost : 1450\n",
      "weight : 749\n",
      "-----------------\n",
      "----- worst -----\n",
      "slack_Y = 918\n",
      "broken: {'HA': (False, 376320.0)}\n",
      "cost : 149\n",
      "weight : 77\n",
      "-----describe----\n",
      "describe\n",
      "              cost       weight        energy        sol_y\n",
      "count  2991.000000  2991.000000  2.991000e+03  2991.000000\n",
      "mean   1119.369776   583.560348 -2.658193e+08   240.692411\n",
      "std     239.165515   124.684462  6.135913e+06   250.483629\n",
      "min     149.000000    77.000000 -2.700014e+08     0.000000\n",
      "25%     960.000000   500.000000 -2.695971e+08    64.500000\n",
      "50%    1136.000000   592.000000 -2.682152e+08   108.000000\n",
      "75%    1290.000000   674.000000 -2.646081e+08   372.000000\n",
      "max    1783.000000   924.000000 -2.039332e+08   991.000000\n",
      "\n",
      "anneal time = 20.0\n",
      "anneal schedule = [(0, 0), (19, 0.5), (20, 1)]\n",
      "----- best ------\n",
      "slack_Y = 13\n",
      "broken: {'HA': (False, 58080.0)}\n",
      "cost : 1450\n",
      "weight : 748\n",
      "-----------------\n",
      "----- worst -----\n",
      "slack_Y = 953\n",
      "broken: {'HA': (False, 48000.0)}\n",
      "cost : 150\n",
      "weight : 80\n",
      "-----describe----\n",
      "describe\n",
      "              cost       weight        energy        sol_y\n",
      "count  2979.000000  2979.000000  2.979000e+03  2979.000000\n",
      "mean   1130.844243   589.779121 -2.657380e+08   217.998993\n",
      "std     232.153719   121.006492  6.358165e+06   246.311032\n",
      "min     150.000000    80.000000 -2.700014e+08     0.000000\n",
      "25%     988.000000   513.500000 -2.695975e+08    51.000000\n",
      "50%    1150.000000   600.000000 -2.681561e+08   100.000000\n",
      "75%    1297.500000   677.000000 -2.646585e+08   333.000000\n",
      "max    1780.000000   929.000000 -2.098492e+08  1005.000000\n",
      "\n"
     ]
    }
   ],
   "source": [
    "sample_info = v_transform_sample(samplesets, schedules, model)\n",
    "v_output_sample_info(sample_info)\n"
   ]
  },
  {
   "cell_type": "markdown",
   "metadata": {},
   "source": [
    "## リバースアニーリング"
   ]
  },
  {
   "cell_type": "code",
   "execution_count": 380,
   "metadata": {},
   "outputs": [],
   "source": [
    "init = samplesets[0].samples()[-1]"
   ]
  },
  {
   "cell_type": "code",
   "execution_count": 381,
   "metadata": {},
   "outputs": [
    {
     "name": "stdout",
     "output_type": "stream",
     "text": [
      "[[(0, 1.0), (5, 0.4), (15, 0.4), (20, 1.0)], [(0, 1), (5, 0.2), (15, 0.2), (20, 1.0)]]\n"
     ]
    }
   ],
   "source": [
    "t = [(0, 5, 15, 20), (0, 5, 15, 20)]\n",
    "s = [(1.0, 0.4, 0.4, 1.0), (1, 0.2, 0.2, 1.0)]\n",
    "\n",
    "reverse_schedules = [list(zip(t[i], s[i])) for i in range(len(t))]\n",
    "print(reverse_schedules)\n"
   ]
  },
  {
   "cell_type": "code",
   "execution_count": 382,
   "metadata": {},
   "outputs": [
    {
     "data": {
      "image/png": "[encoded data removed]",
      "text/plain": [
       "<Figure size 720x288 with 2 Axes>"
      ]
     },
     "metadata": {
      "needs_background": "light"
     },
     "output_type": "display_data"
    }
   ],
   "source": [
    "plt.close()\n",
    "plot_schedules(t, s, \"reverse_anneal.jpg\")\n"
   ]
  },
  {
   "cell_type": "code",
   "execution_count": 383,
   "metadata": {},
   "outputs": [
    {
     "name": "stdout",
     "output_type": "stream",
     "text": [
      "annealing start\n",
      "annealing end\n",
      "annealing start\n",
      "annealing end\n"
     ]
    }
   ],
   "source": [
    "reverse_samplesets = []\n",
    "for schedule in reverse_schedules:\n",
    "    print(\"annealing start\")\n",
    "    if solver == \"QA\":\n",
    "        reverse_samplesets.append(sampler.sample_qubo(\n",
    "            Q, num_reads=num_reads, anneal_schedule=schedule, initial_state=init))\n",
    "    else:\n",
    "        reverse_samplesets.append(sampler.sample_qubo(Q))\n",
    "    print(\"annealing end\")\n"
   ]
  },
  {
   "cell_type": "code",
   "execution_count": 384,
   "metadata": {},
   "outputs": [
    {
     "name": "stdout",
     "output_type": "stream",
     "text": [
      "anneal time = 20.0\n",
      "anneal schedule = [(0, 1.0), (5, 0.4), (15, 0.4), (20, 1.0)]\n",
      "----- best ------\n",
      "slack_Y = 69\n",
      "broken: {'HA': (False, 1966080.0)}\n",
      "cost : 1449\n",
      "weight : 745\n",
      "-----------------\n",
      "----- worst -----\n",
      "slack_Y = 917\n",
      "broken: {'HA': (False, 173280.0)}\n",
      "cost : 163\n",
      "weight : 87\n",
      "-----describe----\n",
      "describe\n",
      "              cost       weight        energy        sol_y\n",
      "count  3000.000000  3000.000000  3.000000e+03  3000.000000\n",
      "mean   1064.709667   553.916667 -2.645405e+08   325.083000\n",
      "std     261.454496   136.353929  7.979019e+06   284.016218\n",
      "min     163.000000    87.000000 -2.700014e+08     0.000000\n",
      "25%     886.000000   462.000000 -2.694461e+08    79.000000\n",
      "50%    1086.000000   565.000000 -2.675125e+08   212.500000\n",
      "75%    1263.000000   658.000000 -2.629440e+08   583.000000\n",
      "max    1850.000000   963.000000 -1.900983e+08  1018.000000\n",
      "\n",
      "anneal time = 20.0\n",
      "anneal schedule = [(0, 1), (5, 0.2), (15, 0.2), (20, 1.0)]\n",
      "----- best ------\n",
      "slack_Y = 157\n",
      "broken: {'HA': (False, 11681280.0)}\n",
      "cost : 1451\n",
      "weight : 749\n",
      "-----------------\n",
      "----- worst -----\n",
      "slack_Y = 879\n",
      "broken: {'HA': (False, 2154720.0)}\n",
      "cost : 149\n",
      "weight : 77\n",
      "-----describe----\n",
      "describe\n",
      "              cost       weight        energy        sol_y\n",
      "count  3000.000000  3000.000000  3.000000e+03  3000.000000\n",
      "mean   1047.985667   544.728000 -2.642718e+08   324.972667\n",
      "std     262.603443   136.749992  8.109253e+06   273.932663\n",
      "min     149.000000    77.000000 -2.700014e+08     0.000000\n",
      "25%     877.000000   455.000000 -2.694458e+08    87.000000\n",
      "50%    1061.000000   552.000000 -2.673728e+08   265.500000\n",
      "75%    1249.000000   650.000000 -2.626200e+08   558.000000\n",
      "max    1872.000000   968.000000 -2.039332e+08  1012.000000\n",
      "\n"
     ]
    }
   ],
   "source": [
    "reverse_sample_info = v_transform_sample(reverse_samplesets, reverse_schedules, model)\n",
    "v_output_sample_info(reverse_sample_info)\n"
   ]
  },
  {
   "cell_type": "code",
   "execution_count": 28,
   "metadata": {},
   "outputs": [
    {
     "data": {
      "image/png": "[encoded data removed]",
      "text/plain": [
       "<Figure size 720x288 with 2 Axes>"
      ]
     },
     "metadata": {
      "needs_background": "light"
     },
     "output_type": "display_data"
    }
   ],
   "source": [
    "t = [(0, 20), (0, 5, 15, 20), (0, 5, 6, 20), (0, 9, 10, 20), (0, 19, 20)]\n",
    "s = [(0, 1), (0, 0.5, 0.5, 1), (0, 0.5, 1, 1), (0, 0.5, 1, 1), (0, 0.5, 1)]\n",
    "t2 = [(0, 5, 15, 20), (0, 5, 15, 20)]\n",
    "s2 = [(1.0, 0.4, 0.4, 1.0), (1, 0.2, 0.2, 1.0)]\n",
    "t_set = [t, t2]\n",
    "s_set = [s, s2]\n",
    "label = [[\"STD\", \"PAUSE\", \"QUENCH A\", \"QUENCH B\",\n",
    "          \"QUENCH C\"], [\"REVERSE A\", \"REVERSE B\"]]\n",
    "\n",
    "fig, ax = plt.subplots(1, 2)\n",
    "fig.set_figwidth(10)\n",
    "fig.tight_layout()\n",
    "\n",
    "for i in range(2):\n",
    "    for j in range(len(t_set[i])):\n",
    "        ax[i].plot(t_set[i][j], s_set[i][j], label=label[i][j])\n",
    "\n",
    "        ax[i].set_xlabel(\"t\")\n",
    "        ax[i].set_ylabel(\"s\")\n",
    "        ax[i].legend(loc=0)\n",
    "plt.savefig(\"fixed-anneal_schedule.jpg\")\n"
   ]
  }
 ],
 "metadata": {
  "kernelspec": {
   "display_name": "Python 3.9.5 ('D_wave')",
   "language": "python",
   "name": "python3"
  },
  "language_info": {
   "codemirror_mode": {
    "name": "ipython",
    "version": 3
   },
   "file_extension": ".py",
   "mimetype": "text/x-python",
   "name": "python",
   "nbconvert_exporter": "python",
   "pygments_lexer": "ipython3",
   "version": "3.9.5"
  },
  "orig_nbformat": 4,
  "vscode": {
   "interpreter": {
    "hash": "c3ebc3f4db919b1094481e65c707023a518e20f62298bc6147dab11826b15250"
   }
  }
 },
 "nbformat": 4,
 "nbformat_minor": 2
}
