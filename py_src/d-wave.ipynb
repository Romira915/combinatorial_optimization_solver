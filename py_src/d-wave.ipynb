{
 "cells": [
  {
   "cell_type": "code",
   "execution_count": 72,
   "metadata": {},
   "outputs": [],
   "source": [
    "import numpy as np\n",
    "from dotenv import load_dotenv\n",
    "from dwave.system import DWaveSampler, EmbeddingComposite\n",
    "from numpy import hamming\n",
    "from openjij import SQASampler\n",
    "from pyqubo import Array, Constraint, LogEncInteger, solve_qubo\n",
    "import math\n",
    "import os\n",
    "import dimod"
   ]
  },
  {
   "cell_type": "code",
   "execution_count": 73,
   "metadata": {},
   "outputs": [],
   "source": [
    "load_dotenv()\n",
    "\n",
    "TOKEN = os.getenv(\"TOKEN\")\n",
    "endpoint = \"https://cloud.dwavesys.com/sapi/\""
   ]
  },
  {
   "cell_type": "code",
   "execution_count": 74,
   "metadata": {},
   "outputs": [],
   "source": [
    "W = 750\n",
    "cost = [135, 139, 149, 150, 156, 163, 173,\n",
    "        184, 192, 201, 210, 214, 221, 229, 240]\n",
    "weight = [70, 73, 77, 80, 82, 87, 90, 94, 98, 106, 110, 113, 115, 118, 120]\n",
    "opt = [1, 0, 1, 0, 1, 0, 1, 1, 1, 0, 0, 0, 0, 1, 1]\n",
    "c = {}\n",
    "w = {}\n",
    "N = len(cost)\n",
    "for i in range(N):\n",
    "    c[i] = cost[i]\n",
    "    w[i] = weight[i]"
   ]
  },
  {
   "cell_type": "code",
   "execution_count": 75,
   "metadata": {},
   "outputs": [],
   "source": [
    "x = Array.create('x', shape=(N), vartype='BINARY')\n",
    "y = LogEncInteger(\"y\", (0, W))"
   ]
  },
  {
   "cell_type": "code",
   "execution_count": 76,
   "metadata": {},
   "outputs": [],
   "source": [
    "key1 = max(c, key=lambda k: c[k])\n",
    "B = 1\n",
    "A = B * c[key1] * 5"
   ]
  },
  {
   "cell_type": "code",
   "execution_count": 77,
   "metadata": {},
   "outputs": [],
   "source": [
    "HA = Constraint(\n",
    "    A * (W - sum(w[a] * x[a] for a in range(N)) - y)**2, label='HA'\n",
    ")\n",
    "\n",
    "HB = - B * sum(c[a] * x[a] for a in range(N))"
   ]
  },
  {
   "cell_type": "code",
   "execution_count": 78,
   "metadata": {},
   "outputs": [],
   "source": [
    "H = HA + HB\n",
    "model = H.compile()\n",
    "Q, offset = model.to_qubo()"
   ]
  },
  {
   "cell_type": "code",
   "execution_count": 79,
   "metadata": {},
   "outputs": [],
   "source": [
    "dw_sampler = DWaveSampler(solver='DW_2000Q_6',\n",
    "                          token=TOKEN, endpoint=endpoint)\n",
    "sampler = EmbeddingComposite(dw_sampler)\n",
    "sampleset = sampler.sample_qubo(Q, num_reads=30)"
   ]
  },
  {
   "cell_type": "code",
   "execution_count": 80,
   "metadata": {},
   "outputs": [
    {
     "data": {
      "text/plain": [
       "rec.array([([0, 0, 0, 0, 0, 0, 1, 0, 0, 0, 0, 1, 1, 0, 1, 1, 1, 0, 0, 1, 0, 0, 1, 1, 1], -5.96970697e+08, 1, 0.16),\n",
       "           ([0, 0, 0, 0, 0, 0, 1, 0, 0, 0, 0, 1, 1, 0, 1, 0, 1, 1, 0, 1, 0, 0, 1, 1, 1], -5.95123897e+08, 1, 0.16),\n",
       "           ([0, 0, 0, 0, 0, 0, 1, 0, 0, 0, 0, 1, 1, 0, 1, 1, 1, 1, 0, 1, 0, 0, 1, 1, 1], -5.94503497e+08, 1, 0.12),\n",
       "           ([0, 0, 0, 0, 0, 0, 1, 0, 0, 0, 0, 1, 1, 0, 1, 1, 0, 1, 0, 1, 0, 0, 1, 1, 1], -5.95741897e+08, 1, 0.12),\n",
       "           ([0, 0, 0, 0, 0, 0, 1, 1, 0, 0, 0, 1, 1, 0, 1, 1, 0, 0, 0, 1, 0, 0, 1, 1, 1], -5.44320846e+08, 1, 0.12),\n",
       "           ([0, 0, 0, 0, 0, 0, 1, 0, 0, 0, 0, 1, 1, 0, 1, 1, 1, 1, 1, 1, 0, 0, 1, 1, 1], -5.89453897e+08, 1, 0.16),\n",
       "           ([0, 0, 0, 0, 0, 0, 1, 1, 0, 0, 0, 1, 1, 0, 1, 1, 1, 0, 0, 0, 0, 0, 1, 1, 1], -5.55173646e+08, 1, 0.12),\n",
       "           ([0, 0, 0, 0, 0, 0, 1, 0, 1, 0, 0, 1, 1, 0, 1, 0, 0, 0, 0, 1, 0, 0, 1, 1, 1], -5.42732047e+08, 1, 0.16),\n",
       "           ([0, 0, 0, 0, 0, 0, 1, 0, 1, 0, 0, 1, 1, 0, 1, 1, 0, 1, 1, 1, 0, 0, 1, 1, 1], -5.32170847e+08, 1, 0.16),\n",
       "           ([0, 0, 0, 0, 0, 0, 1, 0, 0, 0, 0, 1, 1, 0, 1, 0, 0, 0, 1, 1, 0, 0, 1, 1, 1], -5.93880697e+08, 1, 0.2 ),\n",
       "           ([0, 0, 0, 0, 0, 0, 1, 0, 1, 0, 0, 1, 1, 0, 1, 1, 1, 0, 0, 1, 0, 0, 1, 1, 1], -5.40330847e+08, 1, 0.2 ),\n",
       "           ([0, 0, 0, 0, 0, 0, 1, 1, 1, 0, 0, 1, 1, 0, 1, 1, 1, 0, 1, 1, 0, 0, 1, 1, 1], -4.63320996e+08, 1, 0.2 ),\n",
       "           ([1, 1, 1, 0, 1, 1, 0, 0, 0, 1, 1, 0, 0, 1, 0, 1, 1, 1, 1, 0, 1, 0, 0, 1, 0], -5.27160339e+08, 1, 0.2 ),\n",
       "           ([1, 1, 1, 0, 1, 1, 0, 0, 0, 1, 1, 0, 0, 1, 0, 0, 1, 0, 1, 0, 1, 0, 0, 1, 0], -5.31342339e+08, 1, 0.2 ),\n",
       "           ([1, 1, 1, 0, 1, 1, 0, 0, 0, 1, 1, 0, 0, 1, 0, 1, 0, 0, 0, 0, 1, 0, 0, 1, 0], -5.38718739e+08, 1, 0.24),\n",
       "           ([1, 1, 1, 1, 1, 1, 0, 0, 0, 1, 1, 0, 0, 1, 0, 0, 0, 1, 1, 0, 1, 0, 0, 1, 0], -4.17758960e+08, 1, 0.2 ),\n",
       "           ([1, 1, 1, 0, 1, 1, 0, 0, 0, 1, 1, 0, 0, 1, 0, 0, 1, 1, 0, 0, 1, 0, 0, 1, 0], -5.34644739e+08, 1, 0.16),\n",
       "           ([1, 1, 1, 0, 1, 1, 0, 0, 0, 1, 1, 0, 0, 1, 0, 1, 0, 1, 0, 0, 1, 0, 0, 1, 0], -5.35464339e+08, 1, 0.2 ),\n",
       "           ([1, 1, 1, 0, 1, 1, 0, 0, 0, 1, 1, 0, 0, 1, 0, 0, 0, 0, 1, 0, 1, 0, 0, 0, 0], -6.65708739e+08, 1, 0.16),\n",
       "           ([1, 1, 1, 0, 1, 1, 0, 0, 0, 1, 1, 0, 0, 1, 0, 1, 1, 1, 1, 1, 1, 0, 0, 1, 0], -5.13374739e+08, 1, 0.2 ),\n",
       "           ([1, 1, 1, 0, 1, 1, 0, 0, 0, 1, 1, 0, 0, 1, 0, 1, 0, 1, 0, 0, 1, 0, 0, 0, 0], -6.66331539e+08, 1, 0.16),\n",
       "           ([1, 1, 1, 0, 1, 1, 0, 0, 0, 0, 1, 0, 0, 1, 0, 1, 0, 0, 1, 0, 1, 0, 0, 1, 0], -5.91998583e+08, 1, 0.16),\n",
       "           ([1, 1, 1, 0, 1, 1, 0, 1, 0, 1, 1, 0, 0, 1, 0, 0, 1, 1, 0, 0, 1, 0, 0, 1, 0], -4.64328488e+08, 1, 0.2 ),\n",
       "           ([1, 1, 1, 0, 1, 1, 0, 1, 0, 1, 1, 0, 0, 1, 0, 1, 0, 1, 0, 0, 1, 0, 0, 1, 0], -4.65332888e+08, 1, 0.2 ),\n",
       "           ([1, 1, 1, 0, 1, 1, 0, 1, 0, 1, 1, 0, 0, 1, 0, 0, 1, 1, 1, 0, 1, 0, 0, 0, 0], -6.39912488e+08, 1, 0.2 ),\n",
       "           ([1, 1, 1, 0, 1, 1, 0, 0, 0, 1, 1, 0, 0, 1, 0, 0, 0, 0, 0, 0, 1, 0, 0, 0, 0], -6.67321539e+08, 1, 0.2 ),\n",
       "           ([1, 1, 1, 1, 1, 1, 0, 0, 0, 1, 1, 0, 0, 1, 0, 1, 0, 1, 1, 0, 1, 1, 0, 1, 0], -3.40460960e+08, 1, 0.24),\n",
       "           ([1, 1, 1, 0, 1, 1, 0, 1, 0, 1, 1, 0, 0, 1, 0, 1, 0, 0, 0, 0, 0, 0, 0, 1, 0], -4.99892888e+08, 1, 0.2 ),\n",
       "           ([1, 1, 1, 0, 1, 1, 0, 0, 0, 1, 1, 0, 0, 1, 0, 0, 0, 1, 1, 0, 1, 1, 0, 0, 0], -6.45798339e+08, 1, 0.24),\n",
       "           ([1, 1, 1, 0, 1, 1, 0, 0, 0, 1, 1, 0, 0, 1, 0, 1, 0, 1, 1, 0, 1, 0, 0, 0, 0], -6.64622739e+08, 1, 0.24)],\n",
       "          dtype=[('sample', 'i1', (25,)), ('energy', '<f8'), ('num_occurrences', '<i8'), ('chain_break_fraction', '<f8')])"
      ]
     },
     "execution_count": 80,
     "metadata": {},
     "output_type": "execute_result"
    }
   ],
   "source": [
    "sampleset.record"
   ]
  },
  {
   "cell_type": "code",
   "execution_count": 81,
   "metadata": {},
   "outputs": [],
   "source": [
    "decoded_sample = model.decode_sample(sampleset.first.sample, vartype=\"BINARY\")"
   ]
  },
  {
   "cell_type": "code",
   "execution_count": 82,
   "metadata": {},
   "outputs": [],
   "source": [
    "cost = 0\n",
    "weight = 0\n",
    "for k in range(N):\n",
    "    if decoded_sample.array('x', k) != 0:\n",
    "        cost += c[k]\n",
    "        weight += w[k]\n",
    "        "
   ]
  },
  {
   "cell_type": "code",
   "execution_count": 83,
   "metadata": {},
   "outputs": [],
   "source": [
    "sol_y = sum(2**k * v for k, v in [(elem, decoded_sample.array('y', elem))\n",
    "            for elem in range(math.ceil(math.log2(W)))])"
   ]
  },
  {
   "cell_type": "code",
   "execution_count": 84,
   "metadata": {},
   "outputs": [
    {
     "name": "stdout",
     "output_type": "stream",
     "text": [
      "スラック変数Y = 32\n",
      "\n",
      "broken\n",
      "{'HA': (False, 7680000.0)}\n",
      "cost : 1539\n",
      "weight : 798\n"
     ]
    }
   ],
   "source": [
    "print(\"スラック変数Y = {}\".format(sol_y))\n",
    "print()\n",
    "print(\"broken\")\n",
    "print(decoded_sample.constraints(only_broken=True))\n",
    "print(\"cost : \"+str(cost))\n",
    "print(\"weight : \"+str(weight))"
   ]
  },
  {
   "cell_type": "code",
   "execution_count": 85,
   "metadata": {},
   "outputs": [],
   "source": [
    "init = sampleset.samples()[-1]"
   ]
  },
  {
   "cell_type": "code",
   "execution_count": 86,
   "metadata": {},
   "outputs": [],
   "source": [
    "t = (0, 5, 15, 20)\n",
    "s = (1.0, 0.4, 0.4, 1.0)\n",
    "\n",
    "schedule = list(zip(t, s))"
   ]
  },
  {
   "cell_type": "code",
   "execution_count": 87,
   "metadata": {},
   "outputs": [],
   "source": [
    "dw_sampler = DWaveSampler(solver='DW_2000Q_6',\n",
    "                          token=TOKEN, endpoint=endpoint)\n",
    "sampler = EmbeddingComposite(dw_sampler)\n",
    "sampleset = sampler.sample_qubo(\n",
    "    Q, num_reads=30, anneal_schedule=schedule, initial_state=init)"
   ]
  },
  {
   "cell_type": "code",
   "execution_count": 88,
   "metadata": {},
   "outputs": [
    {
     "data": {
      "text/plain": [
       "rec.array([([0, 1, 0, 0, 1, 0, 1, 0, 0, 0, 0, 0, 1, 0, 0, 0, 1, 1, 1, 0, 0, 1, 1, 1, 1], -5.31341562e+08, 1, 0.08),\n",
       "           ([0, 1, 0, 0, 1, 0, 1, 0, 0, 0, 0, 0, 1, 0, 0, 0, 0, 1, 1, 1, 0, 1, 1, 1, 1], -5.19480762e+08, 1, 0.08),\n",
       "           ([0, 1, 0, 0, 1, 0, 1, 0, 0, 0, 0, 0, 1, 0, 0, 0, 0, 1, 1, 1, 0, 1, 1, 1, 1], -5.19480762e+08, 1, 0.08),\n",
       "           ([0, 1, 0, 0, 1, 0, 1, 0, 0, 0, 0, 0, 1, 0, 0, 0, 0, 1, 0, 1, 0, 1, 1, 1, 1], -5.26315962e+08, 1, 0.08),\n",
       "           ([0, 1, 0, 0, 1, 0, 1, 0, 0, 1, 0, 0, 1, 0, 0, 0, 0, 1, 1, 1, 0, 1, 1, 1, 1], -4.40564118e+08, 1, 0.16),\n",
       "           ([0, 1, 0, 0, 1, 0, 1, 0, 0, 0, 0, 0, 1, 0, 0, 0, 0, 1, 1, 1, 1, 1, 1, 1, 1], -4.90603962e+08, 1, 0.08),\n",
       "           ([0, 1, 0, 0, 1, 0, 1, 0, 0, 1, 0, 0, 1, 0, 0, 0, 0, 0, 1, 0, 0, 1, 1, 1, 1], -4.61300118e+08, 1, 0.08),\n",
       "           ([1, 1, 0, 0, 1, 0, 0, 1, 0, 1, 0, 0, 1, 0, 0, 0, 0, 1, 0, 1, 0, 1, 1, 0, 0], -6.74798263e+08, 1, 0.08),\n",
       "           ([1, 0, 0, 0, 1, 0, 1, 1, 0, 1, 0, 0, 1, 0, 0, 0, 0, 1, 1, 0, 0, 1, 1, 0, 0], -6.73772192e+08, 1, 0.08),\n",
       "           ([0, 1, 0, 0, 1, 0, 1, 0, 0, 0, 0, 0, 1, 0, 0, 0, 0, 1, 1, 0, 0, 1, 1, 1, 1], -5.32997562e+08, 1, 0.08),\n",
       "           ([0, 1, 0, 0, 1, 0, 1, 0, 0, 0, 0, 0, 1, 0, 0, 0, 0, 1, 1, 1, 0, 1, 1, 1, 1], -5.19480762e+08, 1, 0.08),\n",
       "           ([0, 1, 1, 1, 0, 0, 0, 1, 1, 0, 1, 1, 0, 1, 0, 0, 1, 1, 0, 1, 1, 0, 0, 0, 1], -5.57438672e+08, 1, 0.12),\n",
       "           ([0, 1, 0, 0, 1, 0, 0, 0, 0, 0, 0, 0, 1, 1, 0, 0, 0, 1, 1, 0, 0, 0, 1, 1, 1], -5.63370815e+08, 1, 0.12),\n",
       "           ([0, 0, 0, 0, 1, 0, 0, 1, 0, 1, 0, 0, 1, 1, 0, 0, 0, 1, 0, 1, 0, 1, 1, 1, 0], -6.33038110e+08, 1, 0.12),\n",
       "           ([0, 0, 0, 0, 1, 0, 1, 0, 0, 0, 0, 0, 1, 0, 0, 0, 0, 1, 1, 0, 1, 0, 1, 1, 1], -6.26035752e+08, 1, 0.08),\n",
       "           ([0, 1, 0, 0, 1, 0, 1, 0, 0, 0, 0, 0, 1, 0, 0, 0, 0, 1, 0, 0, 0, 1, 1, 1, 1], -5.39525562e+08, 1, 0.16),\n",
       "           ([0, 1, 0, 0, 0, 0, 1, 0, 0, 1, 0, 0, 1, 0, 0, 0, 1, 1, 0, 0, 0, 1, 1, 1, 1], -5.65555889e+08, 1, 0.08),\n",
       "           ([0, 1, 0, 0, 1, 0, 1, 0, 0, 0, 0, 0, 1, 0, 0, 1, 1, 1, 1, 1, 0, 1, 1, 1, 1], -5.16877962e+08, 1, 0.08),\n",
       "           ([0, 1, 0, 0, 1, 0, 1, 0, 0, 0, 0, 0, 0, 0, 0, 0, 0, 1, 1, 0, 0, 1, 1, 1, 1], -6.00000578e+08, 1, 0.16),\n",
       "           ([1, 0, 0, 0, 1, 0, 1, 0, 0, 1, 0, 0, 1, 1, 0, 0, 0, 0, 0, 0, 0, 0, 1, 1, 0], -6.40727835e+08, 1, 0.08),\n",
       "           ([1, 1, 0, 0, 1, 0, 1, 0, 0, 0, 0, 0, 1, 0, 0, 0, 1, 0, 1, 1, 0, 1, 1, 1, 1], -4.55180097e+08, 1, 0.16),\n",
       "           ([0, 1, 0, 0, 1, 0, 1, 0, 0, 0, 0, 0, 1, 0, 0, 0, 1, 1, 1, 1, 0, 1, 1, 1, 1], -5.17747962e+08, 1, 0.16),\n",
       "           ([0, 1, 0, 0, 1, 0, 1, 0, 0, 0, 0, 0, 1, 0, 0, 0, 1, 0, 1, 1, 0, 1, 1, 1, 1], -5.21203962e+08, 1, 0.12),\n",
       "           ([1, 0, 0, 0, 1, 0, 1, 0, 0, 1, 0, 0, 1, 0, 0, 1, 0, 1, 0, 0, 0, 1, 1, 1, 0], -6.51480843e+08, 1, 0.08),\n",
       "           ([1, 1, 0, 0, 1, 0, 1, 0, 0, 1, 0, 0, 0, 0, 0, 0, 0, 1, 1, 0, 0, 0, 1, 0, 1], -6.66932069e+08, 1, 0.08),\n",
       "           ([0, 1, 0, 0, 1, 0, 1, 0, 0, 0, 0, 0, 1, 0, 0, 0, 1, 1, 1, 1, 0, 1, 1, 1, 1], -5.17747962e+08, 1, 0.08),\n",
       "           ([0, 0, 0, 0, 1, 0, 1, 0, 0, 1, 0, 0, 1, 0, 0, 1, 1, 1, 1, 1, 0, 1, 1, 1, 1], -5.40330708e+08, 1, 0.08),\n",
       "           ([0, 1, 0, 0, 1, 0, 1, 0, 0, 0, 0, 0, 1, 1, 0, 0, 0, 1, 1, 0, 0, 1, 1, 1, 1], -4.40564154e+08, 1, 0.08),\n",
       "           ([1, 0, 1, 0, 0, 1, 0, 1, 1, 1, 1, 1, 0, 0, 1, 0, 0, 1, 0, 1, 1, 0, 0, 0, 1], -5.14254381e+08, 1, 0.08),\n",
       "           ([0, 1, 0, 0, 1, 0, 1, 0, 0, 1, 0, 0, 1, 0, 0, 0, 1, 0, 1, 1, 0, 1, 1, 1, 0], -6.26519718e+08, 1, 0.12)],\n",
       "          dtype=[('sample', 'i1', (25,)), ('energy', '<f8'), ('num_occurrences', '<i8'), ('chain_break_fraction', '<f8')])"
      ]
     },
     "execution_count": 88,
     "metadata": {},
     "output_type": "execute_result"
    }
   ],
   "source": [
    "sampleset.record"
   ]
  },
  {
   "cell_type": "code",
   "execution_count": 89,
   "metadata": {},
   "outputs": [],
   "source": [
    "decoded_sample = model.decode_sample(sampleset.first.sample, vartype=\"BINARY\")"
   ]
  },
  {
   "cell_type": "code",
   "execution_count": 90,
   "metadata": {},
   "outputs": [],
   "source": [
    "cost = 0\n",
    "weight = 0\n",
    "for k in range(N):\n",
    "    if decoded_sample.array('x', k) != 0:\n",
    "        cost += c[k]\n",
    "        weight += w[k]"
   ]
  },
  {
   "cell_type": "code",
   "execution_count": 91,
   "metadata": {},
   "outputs": [],
   "source": [
    "sol_y = sum(2**k * v for k, v in [(elem, decoded_sample.array('y', elem))\n",
    "            for elem in range(math.ceil(math.log2(W)))])"
   ]
  },
  {
   "cell_type": "code",
   "execution_count": 92,
   "metadata": {},
   "outputs": [
    {
     "name": "stdout",
     "output_type": "stream",
     "text": [
      "スラック変数Y = 212\n",
      "\n",
      "broken\n",
      "{'HA': (False, 202800.0)}\n",
      "cost : 1063\n",
      "weight : 551\n"
     ]
    }
   ],
   "source": [
    "print(\"スラック変数Y = {}\".format(sol_y))\n",
    "print()\n",
    "print(\"broken\")\n",
    "print(decoded_sample.constraints(only_broken=True))\n",
    "print(\"cost : \"+str(cost))\n",
    "print(\"weight : \"+str(weight))"
   ]
  }
 ],
 "metadata": {
  "interpreter": {
   "hash": "b20928de7eb579c6f48ae3119c25db6b3605e1ed7ce240543c84418603b25332"
  },
  "kernelspec": {
   "display_name": "Python 3.10.4 ('reserach')",
   "language": "python",
   "name": "python3"
  },
  "language_info": {
   "codemirror_mode": {
    "name": "ipython",
    "version": 3
   },
   "file_extension": ".py",
   "mimetype": "text/x-python",
   "name": "python",
   "nbconvert_exporter": "python",
   "pygments_lexer": "ipython3",
   "version": "3.10.4"
  },
  "orig_nbformat": 4
 },
 "nbformat": 4,
 "nbformat_minor": 2
}
