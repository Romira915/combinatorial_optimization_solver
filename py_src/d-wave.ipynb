{
 "cells": [
  {
   "cell_type": "code",
   "execution_count": 23,
   "metadata": {},
   "outputs": [],
   "source": [
    "import numpy as np\n",
    "from dotenv import load_dotenv\n",
    "from dwave.system import DWaveSampler, EmbeddingComposite\n",
    "from numpy import hamming\n",
    "from openjij import SQASampler\n",
    "import openjij\n",
    "from pyqubo import Array, Constraint, LogEncInteger, solve_qubo\n",
    "import math\n",
    "import os\n",
    "import dimod\n",
    "from minorminer import find_embedding\n",
    "from dwave.system import FixedEmbeddingComposite\n",
    "from dwave.embedding import embed_bqm\n",
    "from dwave.embedding import MinimizeEnergy\n",
    "from matplotlib import pyplot as plt\n",
    "import sklearn\n",
    "import itertools\n",
    "from copy import copy, deepcopy\n",
    "import pandas as pd"
   ]
  },
  {
   "cell_type": "code",
   "execution_count": 24,
   "metadata": {},
   "outputs": [],
   "source": [
    "load_dotenv()\n",
    "\n",
    "TOKEN = os.getenv(\"TOKEN\")\n",
    "endpoint = \"https://cloud.dwavesys.com/sapi/\"\n",
    "solver = \"QA\"\n",
    "num_reads = 1000"
   ]
  },
  {
   "cell_type": "code",
   "execution_count": 25,
   "metadata": {},
   "outputs": [],
   "source": [
    "W = 750\n",
    "cost_list = [135,\n",
    "             139,\n",
    "             149,\n",
    "             150,\n",
    "             156,\n",
    "             163,\n",
    "             173,\n",
    "             184,\n",
    "             192,\n",
    "             201,\n",
    "             210,\n",
    "             214,\n",
    "             221,\n",
    "             229,\n",
    "             240, ]\n",
    "weight_list = [70,\n",
    "               73,\n",
    "               77,\n",
    "               80,\n",
    "               82,\n",
    "               87,\n",
    "               90,\n",
    "               94,\n",
    "               98,\n",
    "               106,\n",
    "               110,\n",
    "               113,\n",
    "               115,\n",
    "               118,\n",
    "               120, ]\n",
    "opt = [0,\n",
    "0,\n",
    "0,\n",
    "0,\n",
    "0,\n",
    "0,\n",
    "1,\n",
    "0,\n",
    "0,\n",
    "0,\n",
    "1,\n",
    "0,\n",
    "1,\n",
    "1,\n",
    "0,\n",
    "0,\n",
    "0,\n",
    "0,\n",
    "0,\n",
    "0,\n",
    "0,\n",
    "0,\n",
    "0,\n",
    "1,\n",
    "0,\n",
    "1,\n",
    "0,\n",
    "0,\n",
    "0,\n",
    "0,\n",
    "1,\n",
    "0,\n",
    "1,\n",
    "0,\n",
    "0,\n",
    "0,\n",
    "0,\n",
    "1,\n",
    "1,\n",
    "0,\n",
    "0,\n",
    "0,\n",
    "0,\n",
    "0,\n",
    "0,\n",
    "0,\n",
    "0,\n",
    "0,\n",
    "1,\n",
    "0,]\n",
    "N = len(cost_list)"
   ]
  },
  {
   "cell_type": "code",
   "execution_count": 26,
   "metadata": {},
   "outputs": [],
   "source": [
    "x = Array.create('x', shape=(N), vartype='BINARY')\n",
    "y = LogEncInteger(\"y\", (0, W))"
   ]
  },
  {
   "cell_type": "code",
   "execution_count": 27,
   "metadata": {},
   "outputs": [],
   "source": [
    "# key1 = max(cost_list, key=lambda k: cost_list[k])\n",
    "max_c = max(cost_list)\n",
    "B = 1\n",
    "A = B * max_c * 2"
   ]
  },
  {
   "cell_type": "code",
   "execution_count": 28,
   "metadata": {},
   "outputs": [],
   "source": [
    "HA = Constraint(\n",
    "    A * (W - sum(weight_list[a] * x[a] for a in range(N)) - y)**2, label='HA'\n",
    ")\n",
    "\n",
    "HB = - B * sum(cost_list[a] * x[a] for a in range(N))"
   ]
  },
  {
   "cell_type": "code",
   "execution_count": 29,
   "metadata": {},
   "outputs": [],
   "source": [
    "H = HA + HB\n",
    "model = H.compile()\n",
    "Q, offset = model.to_qubo()"
   ]
  },
  {
   "cell_type": "code",
   "execution_count": 30,
   "metadata": {},
   "outputs": [
    {
     "name": "stdout",
     "output_type": "stream",
     "text": [
      "setting DW sampler\n"
     ]
    }
   ],
   "source": [
    "if solver == \"QA\":\n",
    "    dw_sampler = DWaveSampler(solver='Advantage_system6.1',\n",
    "                            token=TOKEN, endpoint=endpoint)\n",
    "    adj = {}\n",
    "    for k in Q.keys():\n",
    "        adj[k] = 1\n",
    "    embedding = find_embedding(adj, dw_sampler.edgelist)\n",
    "    # bqm_embed = embed_bqm(bqm, embedding, dw_sampler.adjacency)\n",
    "    sampler = FixedEmbeddingComposite(dw_sampler, embedding)\n",
    "    # sampler = EmbeddingComposite(dw_sampler)\n",
    "    # sampleset_embed = dw_sampler.sample(bqm_embed, num_reads=10)\n",
    "    print(\"setting DW sampler\")\n",
    "else:\n",
    "    sampler = SQASampler(num_reads=num_reads)\n",
    "    print(\"setting SQA sampler\")"
   ]
  },
  {
   "cell_type": "code",
   "execution_count": 108,
   "metadata": {},
   "outputs": [
    {
     "name": "stdout",
     "output_type": "stream",
     "text": [
      "[[(0, 0), (100, 1)]]\n"
     ]
    }
   ],
   "source": [
    "t = [(0,   100)]\n",
    "s = [(0, 1)]\n",
    "\n",
    "schedules = [list(zip(t[i], s[i])) for i in range(len(t))]\n",
    "print(schedules)\n"
   ]
  },
  {
   "cell_type": "code",
   "execution_count": 109,
   "metadata": {},
   "outputs": [],
   "source": [
    "def plot_schedules(t, s, save_path=\"output.jpg\", title=None):\n",
    "    fig, ax = plt.subplots(1, len(t))\n",
    "    if len(t) == 1:\n",
    "        ax = [ax]\n",
    "    fig.set_figwidth(5 * len(t))\n",
    "    for i in range(len(t)):\n",
    "        ax[i].plot(t[i], s[i])\n",
    "        ax[i].set_xlim(-1.0, t[i][-1] + 1.)\n",
    "        ax[i].set_ylim(-0.1, 1.1)\n",
    "        if not title == None:\n",
    "            ax[i].set_title(title[i].upper())\n",
    "\n",
    "    plt.tight_layout()\n",
    "    plt.savefig(save_path)"
   ]
  },
  {
   "cell_type": "code",
   "execution_count": 110,
   "metadata": {},
   "outputs": [
    {
     "data": {
      "image/png": "[encoded data removed]",
      "text/plain": [
       "<Figure size 360x288 with 1 Axes>"
      ]
     },
     "metadata": {
      "needs_background": "light"
     },
     "output_type": "display_data"
    }
   ],
   "source": [
    "plot_schedules(t, s, \"anneal_schedule.jpg\")"
   ]
  },
  {
   "cell_type": "code",
   "execution_count": 111,
   "metadata": {},
   "outputs": [
    {
     "name": "stdout",
     "output_type": "stream",
     "text": [
      "annealing start\n",
      "annealing end\n"
     ]
    }
   ],
   "source": [
    "samplesets = []\n",
    "for schedule in schedules:\n",
    "    print(\"annealing start\")\n",
    "    if solver == \"QA\":\n",
    "        samplesets.append(sampler.sample_qubo(\n",
    "            Q, num_reads=num_reads, anneal_schedule=schedule))\n",
    "    else:\n",
    "        samplesets.append(sampler.sample_qubo(Q))\n",
    "    print(\"annealing end\")"
   ]
  },
  {
   "cell_type": "code",
   "execution_count": 112,
   "metadata": {},
   "outputs": [],
   "source": [
    "def dict_from_sampleview(sampleview):\n",
    "    d = {}\n",
    "\n",
    "    for key in sampleview.keys():\n",
    "        d[key] = sampleview.get(key)\n",
    "    \n",
    "    return d"
   ]
  },
  {
   "cell_type": "code",
   "execution_count": 113,
   "metadata": {},
   "outputs": [],
   "source": [
    "def transform_sample(sampleset, schedule, model):\n",
    "    # decoded_samples = model.decode_sampleset(\n",
    "    #     sampleset=sampleset, vartype=\"BINARY\")\n",
    "    decoded_samples = []\n",
    "    for sample, record in zip(sampleset, sampleset.record):\n",
    "        decoded_sample = model.decode_sample(\n",
    "            dict_from_sampleview(sample), vartype=\"BINARY\")\n",
    "        decoded_samples.append((decoded_sample, record[1]))\n",
    "\n",
    "    value_set = []\n",
    "    for decoded_sample, energy in decoded_samples:\n",
    "        cost = 0\n",
    "        weight = 0\n",
    "        for k in range(N):\n",
    "            if decoded_sample.array('x', k) != 0:\n",
    "                cost += cost_list[k]\n",
    "                weight += weight_list[k]\n",
    "\n",
    "        sol_y = sum(2**k * v for k, v in [(elem, decoded_sample.array('y', elem))\n",
    "                                          for elem in range(math.ceil(math.log2(W)))])\n",
    "\n",
    "        value_set.append(\n",
    "            {\"cost\": cost, \"weight\": weight, \"energy\": energy, \"sol_y\": sol_y, \"broken\": decoded_sample.constraints(only_broken=True)})\n",
    "\n",
    "    value_df = pd.DataFrame(value_set)\n",
    "    value_df_sorted_cost = value_df[value_df[\"weight\"] <= W].sort_values(by=[\n",
    "                                                                    \"cost\"])\n",
    "    value_max = value_df_sorted_cost.loc[value_df_sorted_cost[\"cost\"].idxmax()]\n",
    "    value_min = value_df_sorted_cost.loc[value_df_sorted_cost[\"cost\"].idxmin()]\n",
    "    \n",
    "    # value_df_sorted_by_energy = value_df.sort_values(by=[\"energy\"])\n",
    "\n",
    "    return {\"anneal_time\": sampleset.info[\"timing\"][\"qpu_anneal_time_per_sample\"], \"anneal_schedule\": schedule, \"info_sets\": value_set, \"best_value\": value_max, \"worst_value\": value_min, \"dataframe\": value_df}\n",
    "\n",
    "\n",
    "def v_transform_sample(samplesets, schedules, model):\n",
    "    if type(samplesets) == list:\n",
    "        sample_info = []\n",
    "        for (sampleset, schedule) in zip(samplesets, schedules):\n",
    "            sample_info.append(transform_sample(sampleset, schedule, model))\n",
    "        return sample_info\n",
    "    else:\n",
    "        return transform_sample(transform_sample(samplesets, schedules, model))\n"
   ]
  },
  {
   "cell_type": "code",
   "execution_count": 114,
   "metadata": {},
   "outputs": [],
   "source": [
    "def output_sample_info(sample_info):\n",
    "    print(\"anneal time = {}\".format(sample_info[\"anneal_time\"]))\n",
    "    print(\"anneal schedule = {}\".format(sample_info[\"anneal_schedule\"]))\n",
    "    print(\"----- best ------\")\n",
    "    print(\"slack_Y = {}\".format(sample_info[\"best_value\"][\"sol_y\"]))\n",
    "    print(\"broken: {}\".format(sample_info[\"best_value\"][\"broken\"]))\n",
    "    print(\"cost : \"+str(sample_info[\"best_value\"][\"cost\"]))\n",
    "    print(\"weight : \"+str(sample_info[\"best_value\"][\"weight\"]))\n",
    "    print(\"-----------------\")\n",
    "    print(\"----- worst -----\")\n",
    "    print(\"slack_Y = {}\".format(sample_info[\"worst_value\"][\"sol_y\"]))\n",
    "    print(\"broken: {}\".format(sample_info[\"worst_value\"][\"broken\"]))\n",
    "    print(\"cost : \"+str(sample_info[\"worst_value\"][\"cost\"]))\n",
    "    print(\"weight : \"+str(sample_info[\"worst_value\"][\"weight\"]))\n",
    "    print(\"-----describe----\")\n",
    "    print(\"describe\")\n",
    "    print(sample_info[\"dataframe\"].describe())\n",
    "    print()\n",
    "\n",
    "def v_output_sample_info(samples_info):\n",
    "    if type(samples_info) == list:\n",
    "        for sample_info in samples_info:\n",
    "            output_sample_info(sample_info)\n",
    "    else:\n",
    "        output_sample_info(samples_info)"
   ]
  },
  {
   "cell_type": "code",
   "execution_count": 115,
   "metadata": {},
   "outputs": [
    {
     "name": "stdout",
     "output_type": "stream",
     "text": [
      "anneal time = 100.0\n",
      "anneal schedule = [(0, 0), (100, 1)]\n",
      "----- best ------\n",
      "slack_Y = 268\n",
      "broken: {'HA': (False, 34475520.0)}\n",
      "cost : 1441\n",
      "weight : 750\n",
      "-----------------\n",
      "----- worst -----\n",
      "slack_Y = 866\n",
      "broken: {'HA': (False, 3072000.0)}\n",
      "cost : 458\n",
      "weight : 237\n",
      "-----describe----\n",
      "describe\n",
      "              cost      weight        energy       sol_y\n",
      "count   881.000000  881.000000  8.810000e+02  881.000000\n",
      "mean   1036.692395  539.263337 -2.475153e+08  532.282633\n",
      "std     187.777648   97.611957  2.787638e+07  261.251565\n",
      "min     458.000000  237.000000 -2.700014e+08    1.000000\n",
      "25%     919.000000  477.000000 -2.675127e+08  297.000000\n",
      "50%    1058.000000  550.000000 -2.608599e+08  584.000000\n",
      "75%    1137.000000  593.000000 -2.344885e+08  835.000000\n",
      "max    1698.000000  883.000000 -1.012100e+08  902.000000\n",
      "\n"
     ]
    }
   ],
   "source": [
    "sample_info = v_transform_sample(samplesets, schedules, model)\n",
    "v_output_sample_info(sample_info)\n"
   ]
  },
  {
   "cell_type": "markdown",
   "metadata": {},
   "source": [
    "## リバースアニーリング"
   ]
  },
  {
   "cell_type": "code",
   "execution_count": 116,
   "metadata": {},
   "outputs": [],
   "source": [
    "init = samplesets[0].samples()[-1]"
   ]
  },
  {
   "cell_type": "code",
   "execution_count": 117,
   "metadata": {},
   "outputs": [
    {
     "name": "stdout",
     "output_type": "stream",
     "text": [
      "[[(0, 1.0), (10, 0.2), (100, 1.0)]]\n"
     ]
    }
   ],
   "source": [
    "t = [(0, 10, 100)]\n",
    "s = [(1.0, 0.2, 1.0)]\n",
    "\n",
    "reverse_schedules = [list(zip(t[i], s[i])) for i in range(len(t))]\n",
    "print(reverse_schedules)\n"
   ]
  },
  {
   "cell_type": "code",
   "execution_count": 118,
   "metadata": {},
   "outputs": [
    {
     "data": {
      "image/png": "[encoded data removed]",
      "text/plain": [
       "<Figure size 360x288 with 1 Axes>"
      ]
     },
     "metadata": {
      "needs_background": "light"
     },
     "output_type": "display_data"
    }
   ],
   "source": [
    "plt.close()\n",
    "plot_schedules(t, s, \"reverse_anneal.jpg\")\n"
   ]
  },
  {
   "cell_type": "code",
   "execution_count": 119,
   "metadata": {},
   "outputs": [
    {
     "name": "stdout",
     "output_type": "stream",
     "text": [
      "annealing start\n",
      "annealing end\n"
     ]
    }
   ],
   "source": [
    "reverse_samplesets = []\n",
    "for schedule in reverse_schedules:\n",
    "    print(\"annealing start\")\n",
    "    if solver == \"QA\":\n",
    "        reverse_samplesets.append(sampler.sample_qubo(\n",
    "            Q, num_reads=num_reads, anneal_schedule=schedule, initial_state=init))\n",
    "    else:\n",
    "        reverse_samplesets.append(sampler.sample_qubo(Q))\n",
    "    print(\"annealing end\")\n"
   ]
  },
  {
   "cell_type": "code",
   "execution_count": 120,
   "metadata": {},
   "outputs": [
    {
     "name": "stdout",
     "output_type": "stream",
     "text": [
      "anneal time = 100.0\n",
      "anneal schedule = [(0, 1.0), (10, 0.2), (100, 1.0)]\n",
      "----- best ------\n",
      "slack_Y = 160\n",
      "broken: {'HA': (False, 11831520.0)}\n",
      "cost : 1437\n",
      "weight : 747\n",
      "-----------------\n",
      "----- worst -----\n",
      "slack_Y = 881\n",
      "broken: {'HA': (False, 554880.0)}\n",
      "cost : 336\n",
      "weight : 176\n",
      "-----describe----\n",
      "describe\n",
      "              cost       weight        energy       sol_y\n",
      "count  1000.000000  1000.000000  1.000000e+03  1000.00000\n",
      "mean   1007.452000   524.040000 -2.273087e+08   733.12200\n",
      "std     155.497129    81.186992  3.194793e+07   190.05762\n",
      "min     336.000000   176.000000 -2.700008e+08    50.00000\n",
      "25%     837.000000   435.000000 -2.586174e+08   603.00000\n",
      "50%    1038.000000   541.000000 -2.346188e+08   840.00000\n",
      "75%    1058.000000   550.000000 -2.046438e+08   849.00000\n",
      "max    1443.000000   754.000000 -1.397096e+08   891.00000\n",
      "\n"
     ]
    }
   ],
   "source": [
    "reverse_sample_info = v_transform_sample(reverse_samplesets, reverse_schedules, model)\n",
    "v_output_sample_info(reverse_sample_info)\n"
   ]
  },
  {
   "cell_type": "code",
   "execution_count": null,
   "metadata": {},
   "outputs": [],
   "source": [
    "t = [(0, 20), (0, 5, 15, 20), (0, 5, 6, 20), (0, 9, 10, 20), (0, 19, 20)]\n",
    "s = [(0, 1), (0, 0.5, 0.5, 1), (0, 0.5, 1, 1), (0, 0.5, 1, 1), (0, 0.5, 1)]\n",
    "plot_schedules(t, s, \"pause_quench_schedule.jpg\", [\n",
    "               \"std\", \"pause\", \"quench A\", \"quench B\", \"quench C\"])\n",
    "\n",
    "t = [(0, 5, 15, 20), (0, 5, 15, 20)]\n",
    "s = [(1.0, 0.4, 0.4, 1.0), (1, 0.2, 0.2, 1.0)]\n",
    "plot_schedules(t, s, \"reverse_anneal.jpg\", [\n",
    "               \"reverse A\", \"reverse B\"])\n"
   ]
  }
 ],
 "metadata": {
  "kernelspec": {
   "display_name": "Python 3.10.4 ('research')",
   "language": "python",
   "name": "python3"
  },
  "language_info": {
   "codemirror_mode": {
    "name": "ipython",
    "version": 3
   },
   "file_extension": ".py",
   "mimetype": "text/x-python",
   "name": "python",
   "nbconvert_exporter": "python",
   "pygments_lexer": "ipython3",
   "version": "3.10.4"
  },
  "orig_nbformat": 4,
  "vscode": {
   "interpreter": {
    "hash": "bb1d21dba752cf8da5de9ab4f5e681fa985299b4d8a4fe476c7fbce9b9f149dc"
   }
  }
 },
 "nbformat": 4,
 "nbformat_minor": 2
}
