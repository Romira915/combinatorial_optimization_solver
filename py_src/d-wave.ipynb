{
 "cells": [
  {
   "cell_type": "code",
   "execution_count": null,
   "metadata": {},
   "outputs": [],
   "source": [
    "!pip install numpy python-dotenv dwave-ocean-sdk openjij pyqubo matplotlib sklearn pandas"
   ]
  },
  {
   "cell_type": "code",
   "execution_count": null,
   "metadata": {},
   "outputs": [],
   "source": [
    "import numpy as np\n",
    "from dotenv import load_dotenv\n",
    "from dwave.system import DWaveSampler, EmbeddingComposite\n",
    "from numpy import hamming\n",
    "from openjij import SQASampler\n",
    "import openjij\n",
    "from pyqubo import Array, Constraint, LogEncInteger, solve_qubo\n",
    "import math\n",
    "import os\n",
    "import dimod\n",
    "from minorminer import find_embedding\n",
    "from dwave.system import FixedEmbeddingComposite\n",
    "from dwave.embedding import embed_bqm\n",
    "from dwave.embedding import MinimizeEnergy\n",
    "from matplotlib import pyplot as plt\n",
    "import sklearn\n",
    "import itertools\n",
    "from copy import copy, deepcopy\n",
    "import pandas as pd\n",
    "from load_dataset import load_knapsack"
   ]
  },
  {
   "cell_type": "markdown",
   "metadata": {},
   "source": [
    "# 量子アニーリング"
   ]
  },
  {
   "cell_type": "code",
   "execution_count": null,
   "metadata": {},
   "outputs": [],
   "source": [
    "load_dotenv()\n",
    "\n",
    "TOKEN = os.getenv(\"TOKEN\")\n",
    "endpoint = \"https://cloud.dwavesys.com/sapi/\"\n",
    "solver = \"QA\"\n",
    "num_reads = 1000"
   ]
  },
  {
   "cell_type": "code",
   "execution_count": null,
   "metadata": {},
   "outputs": [],
   "source": [
    "dataset = load_knapsack(\"../dataset/knapsack/knap_custom.csv\")[1]\n",
    "W = dataset.capacity\n",
    "N = dataset.n\n",
    "cost_list = dataset.cost_list\n",
    "weight_list = dataset.weight_list\n",
    "opt = dataset.optimum_state\n",
    "opt_value = np.dot(dataset.optimum_state, cost_list)\n",
    "print(\"W:\", W)\n",
    "print(\"N:\", N)\n",
    "print(\"opt:\", dataset.optimum_value)\n",
    "print(\"   :\", opt_value)\n"
   ]
  },
  {
   "cell_type": "code",
   "execution_count": null,
   "metadata": {},
   "outputs": [],
   "source": [
    "x = Array.create('x', shape=(N), vartype='BINARY')\n",
    "y = LogEncInteger(\"y\", (0, W))"
   ]
  },
  {
   "cell_type": "code",
   "execution_count": null,
   "metadata": {},
   "outputs": [],
   "source": [
    "# key1 = max(cost_list, key=lambda k: cost_list[k])\n",
    "max_c = max(cost_list)\n",
    "B = 1\n",
    "A = B * max_c * 2"
   ]
  },
  {
   "cell_type": "code",
   "execution_count": null,
   "metadata": {},
   "outputs": [],
   "source": [
    "HA = Constraint(\n",
    "    A * (W - sum(weight_list[a] * x[a] for a in range(N)) - y)**2, label='HA'\n",
    ")\n",
    "\n",
    "HB = - B * sum(cost_list[a] * x[a] for a in range(N))"
   ]
  },
  {
   "cell_type": "code",
   "execution_count": null,
   "metadata": {},
   "outputs": [],
   "source": [
    "H = HA + HB\n",
    "model = H.compile()\n",
    "Q, offset = model.to_qubo()"
   ]
  },
  {
   "cell_type": "code",
   "execution_count": null,
   "metadata": {},
   "outputs": [],
   "source": [
    "if solver == \"QA\":\n",
    "    dw_sampler = DWaveSampler(solver='Advantage_system6.1',\n",
    "                            token=TOKEN, endpoint=endpoint)\n",
    "    adj = {}\n",
    "    for k in Q.keys():\n",
    "        adj[k] = 1\n",
    "    embedding = find_embedding(adj, dw_sampler.edgelist)\n",
    "    # bqm_embed = embed_bqm(bqm, embedding, dw_sampler.adjacency)\n",
    "    sampler = FixedEmbeddingComposite(dw_sampler, embedding)\n",
    "    # sampler = EmbeddingComposite(dw_sampler)\n",
    "    # sampleset_embed = dw_sampler.sample(bqm_embed, num_reads=10)\n",
    "    print(\"setting DW sampler\")\n",
    "else:\n",
    "    sampler = SQASampler(num_reads=num_reads)\n",
    "    print(\"setting SQA sampler\")"
   ]
  },
  {
   "cell_type": "markdown",
   "metadata": {},
   "source": [
    "## フォワードアニーリング"
   ]
  },
  {
   "cell_type": "code",
   "execution_count": null,
   "metadata": {},
   "outputs": [],
   "source": [
    "# t = [(0, 20), (0, 5, 15, 20), (0, 5, 6, 20), (0, 9, 10, 20), (0, 19, 20)]\n",
    "# s = [(0, 1), (0, 0.5, 0.5, 1), (0, 0.5, 1, 1), (0, 0.5, 1, 1), (0, 0.5, 1)]\n",
    "t = [(0, 100)]\n",
    "s = [(0, 1)]\n",
    "\n",
    "schedules = [list(zip(t[i], s[i])) for i in range(len(t))]\n",
    "print(schedules)\n"
   ]
  },
  {
   "cell_type": "code",
   "execution_count": null,
   "metadata": {},
   "outputs": [],
   "source": [
    "def plot_schedules(t, s, save_path=\"output.jpg\", title=None):\n",
    "    linestyle = [\"solid\", \"dotted\", \"dashed\",\n",
    "                 \"dashdot\", (0, (1, 10)), (0, (3, 1, 1, 1))]\n",
    "    if len(t) == 1:\n",
    "        fig, ax = plt.subplots(1)\n",
    "        fig = [fig]\n",
    "        ax = [ax]\n",
    "    else:\n",
    "        fig, ax = plt.subplots(1, len(t))\n",
    "        fig.set_figwidth(5 * len(t))\n",
    "\n",
    "    for i in range(len(t)):\n",
    "        ax[i].plot(t[i], s[i])\n",
    "        ax[i].set_xlim(-1.0, t[i][-1] + 1.0)\n",
    "        ax[i].set_ylim(-0.1, 1.1)\n",
    "        if not title == None:\n",
    "            ax[i].set_title(title[i].upper())\n",
    "\n",
    "    plt.tight_layout()\n",
    "    plt.savefig(save_path)"
   ]
  },
  {
   "cell_type": "code",
   "execution_count": null,
   "metadata": {},
   "outputs": [],
   "source": [
    "plot_schedules(t, s, \"anneal_schedule.jpg\")"
   ]
  },
  {
   "cell_type": "code",
   "execution_count": null,
   "metadata": {},
   "outputs": [],
   "source": [
    "samplesets = []\n",
    "for schedule in schedules:\n",
    "    print(\"annealing start\")\n",
    "    if solver == \"QA\":\n",
    "        samplesets.append(sampler.sample_qubo(\n",
    "            Q, num_reads=num_reads, anneal_schedule=schedule))\n",
    "    else:\n",
    "        samplesets.append(sampler.sample_qubo(Q))\n",
    "    print(\"annealing end\")"
   ]
  },
  {
   "cell_type": "code",
   "execution_count": null,
   "metadata": {},
   "outputs": [],
   "source": [
    "def dict_from_sampleview(sampleview):\n",
    "    d = {}\n",
    "\n",
    "    for key in sampleview.keys():\n",
    "        d[key] = sampleview.get(key)\n",
    "    \n",
    "    return d"
   ]
  },
  {
   "cell_type": "code",
   "execution_count": null,
   "metadata": {},
   "outputs": [],
   "source": [
    "def transform_sample(sampleset, schedule, model):\n",
    "    # decoded_samples = model.decode_sampleset(\n",
    "    #     sampleset=sampleset, vartype=\"BINARY\")\n",
    "    decoded_samples = []\n",
    "    for sample, record in zip(sampleset, sampleset.record):\n",
    "        decoded_sample = model.decode_sample(\n",
    "            dict_from_sampleview(sample), vartype=\"BINARY\")\n",
    "        decoded_samples.append((decoded_sample, record[1]))\n",
    "\n",
    "    value_set = []\n",
    "    for decoded_sample, energy in decoded_samples:\n",
    "        cost = 0\n",
    "        weight = 0\n",
    "        for k in range(N):\n",
    "            if decoded_sample.array('x', k) != 0:\n",
    "                cost += cost_list[k]\n",
    "                weight += weight_list[k]\n",
    "\n",
    "        sol_y = sum(2**k * v for k, v in [(elem, decoded_sample.array('y', elem))\n",
    "                                          for elem in range(math.ceil(math.log2(W)))])\n",
    "\n",
    "        value_set.append(\n",
    "            {\"cost\": cost, \"weight\": weight, \"energy\": energy, \"sol_y\": sol_y, \"broken\": decoded_sample.constraints(only_broken=True)})\n",
    "\n",
    "    value_df = pd.DataFrame(value_set)\n",
    "    value_df_sorted_cost = value_df[value_df[\"weight\"] <= W].sort_values(by=[\n",
    "        \"cost\"])\n",
    "    value_max = value_df_sorted_cost.loc[value_df_sorted_cost[\"cost\"].idxmax()]\n",
    "    value_min = value_df_sorted_cost.loc[value_df_sorted_cost[\"cost\"].idxmin()]\n",
    "    value_ave = value_df_sorted_cost[\"cost\"].mean()\n",
    "    opt_count = (value_df_sorted_cost[\"cost\"] == opt_value).sum()\n",
    "    \n",
    "\n",
    "    # value_df_sorted_by_energy = value_df.sort_values(by=[\"energy\"])\n",
    "\n",
    "    return {\"anneal_time\": sampleset.info[\"timing\"][\"qpu_anneal_time_per_sample\"],\n",
    "            \"anneal_schedule\": schedule,\n",
    "            \"info_sets\": value_set,\n",
    "            \"best_value\": value_max,\n",
    "            \"average_cost\": value_ave,\n",
    "            \"worst_value\": value_min,\n",
    "            \"dataframe\": value_df,\n",
    "            \"opt_count\": opt_count,\n",
    "            \"success_rate\": opt_count / num_reads}\n",
    "\n",
    "\n",
    "def v_transform_sample(samplesets, schedules, model):\n",
    "    if type(samplesets) == list:\n",
    "        sample_info = []\n",
    "        for (sampleset, schedule) in zip(samplesets, schedules):\n",
    "            sample_info.append(transform_sample(sampleset, schedule, model))\n",
    "        return sample_info\n",
    "    else:\n",
    "        return transform_sample(transform_sample(samplesets, schedules, model))\n"
   ]
  },
  {
   "cell_type": "code",
   "execution_count": null,
   "metadata": {},
   "outputs": [],
   "source": [
    "def output_sample_info(sample_info):\n",
    "    print(\"anneal time = {}\".format(sample_info[\"anneal_time\"]))\n",
    "    print(\"anneal schedule = {}\".format(sample_info[\"anneal_schedule\"]))\n",
    "    print(\"---- result -----\")\n",
    "    print(\"opt_count : \" + str(sample_info[\"opt_count\"]))\n",
    "    print(\"success rate : \" + str(sample_info[\"success_rate\"]))\n",
    "    print(\"-----------------\")\n",
    "    print(\"----- best ------\")\n",
    "    print(\"slack_Y = {}\".format(sample_info[\"best_value\"][\"sol_y\"]))\n",
    "    print(\"broken: {}\".format(sample_info[\"best_value\"][\"broken\"]))\n",
    "    print(\"cost : \" + str(sample_info[\"best_value\"][\"cost\"]))\n",
    "    print(\"weight : \" + str(sample_info[\"best_value\"][\"weight\"]))\n",
    "    print(\"-----------------\")\n",
    "    print(\"---- average -----\")\n",
    "    print(\"cost : \" + str(sample_info[\"average_cost\"]))\n",
    "    print(\"-----------------\")\n",
    "    print(\"----- worst -----\")\n",
    "    print(\"slack_Y = {}\".format(sample_info[\"worst_value\"][\"sol_y\"]))\n",
    "    print(\"broken: {}\".format(sample_info[\"worst_value\"][\"broken\"]))\n",
    "    print(\"cost : \" + str(sample_info[\"worst_value\"][\"cost\"]))\n",
    "    print(\"weight : \" + str(sample_info[\"worst_value\"][\"weight\"]))\n",
    "    print(\"-----------------\")\n",
    "    print(\"-----describe----\")\n",
    "    print(sample_info[\"dataframe\"].describe())\n",
    "    print()\n",
    "\n",
    "\n",
    "def v_output_sample_info(samples_info):\n",
    "    if type(samples_info) == list:\n",
    "        for sample_info in samples_info:\n",
    "            output_sample_info(sample_info)\n",
    "    else:\n",
    "        output_sample_info(samples_info)\n"
   ]
  },
  {
   "cell_type": "markdown",
   "metadata": {},
   "source": [
    "### 結果"
   ]
  },
  {
   "cell_type": "code",
   "execution_count": null,
   "metadata": {},
   "outputs": [],
   "source": [
    "samples_info = v_transform_sample(samplesets, schedules, model)\n",
    "v_output_sample_info(samples_info)\n"
   ]
  },
  {
   "cell_type": "code",
   "execution_count": null,
   "metadata": {},
   "outputs": [],
   "source": [
    "len(samples_info[0][\"dataframe\"])\n"
   ]
  },
  {
   "cell_type": "markdown",
   "metadata": {},
   "source": [
    "## リバースアニーリング"
   ]
  },
  {
   "cell_type": "markdown",
   "metadata": {},
   "source": [
    "### 最良値採用"
   ]
  },
  {
   "cell_type": "code",
   "execution_count": null,
   "metadata": {},
   "outputs": [],
   "source": [
    "# init = samplesets[0].samples()[int(len(samplesets[0].samples()) / 2)]\n",
    "init = samplesets[0].samples()[samples_info[0][\"opt_count\"]]\n"
   ]
  },
  {
   "cell_type": "code",
   "execution_count": null,
   "metadata": {},
   "outputs": [],
   "source": [
    "tau = 100\n",
    "\n",
    "t = []\n",
    "s = []\n",
    "\n",
    "s_inv = 0.2\n",
    "t_inv = tau * (1 - s_inv)\n",
    "\n",
    "t.append((0,  t_inv, tau))\n",
    "s.append((1, s_inv, 1.0))\n",
    "\n",
    "s_inv = 0.4\n",
    "t_inv = tau * (1 - s_inv)\n",
    "\n",
    "t.append((0,  t_inv, tau))\n",
    "s.append((1, s_inv, 1.0))\n",
    "\n",
    "s_inv = 0.6\n",
    "t_inv = tau * (1 - s_inv)\n",
    "\n",
    "t.append((0,  t_inv, tau))\n",
    "s.append((1, s_inv, 1.0))\n",
    "\n",
    "reverse_schedules = [list(zip(t[i], s[i])) for i in range(len(t))]\n",
    "print(reverse_schedules)\n"
   ]
  },
  {
   "cell_type": "code",
   "execution_count": null,
   "metadata": {},
   "outputs": [],
   "source": [
    "plt.close()\n",
    "plot_schedules(t, s, \"reverse_anneal.jpg\")\n"
   ]
  },
  {
   "cell_type": "code",
   "execution_count": null,
   "metadata": {},
   "outputs": [],
   "source": [
    "reverse_samplesets = []\n",
    "for schedule in reverse_schedules:\n",
    "    print(\"annealing start\")\n",
    "    if solver == \"QA\":\n",
    "        reverse_samplesets.append(sampler.sample_qubo(\n",
    "            Q, num_reads=num_reads, anneal_schedule=schedule, initial_state=init, reinitialize_state=True))\n",
    "    else:\n",
    "        reverse_samplesets.append(sampler.sample_qubo(Q))\n",
    "    print(\"annealing end\")\n"
   ]
  },
  {
   "cell_type": "markdown",
   "metadata": {},
   "source": [
    "#### 結果"
   ]
  },
  {
   "cell_type": "code",
   "execution_count": null,
   "metadata": {},
   "outputs": [],
   "source": [
    "reverse_samples_info = v_transform_sample(reverse_samplesets, reverse_schedules, model)\n",
    "v_output_sample_info(reverse_samples_info)\n"
   ]
  },
  {
   "cell_type": "markdown",
   "metadata": {},
   "source": [
    "### 最悪値採用"
   ]
  },
  {
   "cell_type": "code",
   "execution_count": null,
   "metadata": {},
   "outputs": [],
   "source": [
    "init = samplesets[0].samples()[-1]"
   ]
  },
  {
   "cell_type": "code",
   "execution_count": null,
   "metadata": {},
   "outputs": [],
   "source": [
    "reverse_worst_schedules = deepcopy(reverse_schedules)\n",
    "reverse_worst_schedules = []\n",
    "print(reverse_worst_schedules)"
   ]
  },
  {
   "cell_type": "code",
   "execution_count": null,
   "metadata": {},
   "outputs": [],
   "source": [
    "plt.close()\n",
    "plot_schedules(t, s, \"reverse_anneal.jpg\")"
   ]
  },
  {
   "cell_type": "code",
   "execution_count": null,
   "metadata": {},
   "outputs": [],
   "source": [
    "reverse_worst_samplesets = []\n",
    "for schedule in reverse_worst_schedules:\n",
    "    print(\"annealing start\")\n",
    "    if solver == \"QA\":\n",
    "        reverse_worst_samplesets.append(sampler.sample_qubo(\n",
    "            Q, num_reads=num_reads, anneal_schedule=schedule, initial_state=init, reinitialize_state=True))\n",
    "    else:\n",
    "        reverse_worst_samplesets.append(sampler.sample_qubo(Q))\n",
    "    print(\"annealing end\")\n"
   ]
  },
  {
   "cell_type": "markdown",
   "metadata": {},
   "source": [
    "#### 結果"
   ]
  },
  {
   "cell_type": "code",
   "execution_count": null,
   "metadata": {},
   "outputs": [],
   "source": [
    "reverse_worst_samples_info = v_transform_sample(\n",
    "    reverse_worst_samplesets, reverse_worst_schedules, model)\n",
    "v_output_sample_info(reverse_worst_samplesets)\n"
   ]
  },
  {
   "cell_type": "code",
   "execution_count": null,
   "metadata": {},
   "outputs": [],
   "source": [
    "for info in samples_info:\n",
    "    print(info[\"best_value\"][\"cost\"], \"&\",\n",
    "          info[\"average_cost\"], \"&\", info[\"worst_value\"][\"cost\"], info[\"success_rate\"], \"\\\\\\\\\")\n",
    "for info in reverse_samples_info:\n",
    "    print(info[\"best_value\"][\"cost\"], \"&\",\n",
    "          info[\"average_cost\"], \"&\", info[\"worst_value\"][\"cost\"], info[\"success_rate\"], \"\\\\\\\\\")\n",
    "for info in reverse_worst_samples_info:\n",
    "    print(info[\"best_value\"][\"cost\"], \"&\",\n",
    "          info[\"average_cost\"], \"&\", info[\"worst_value\"][\"cost\"], info[\"success_rate\"], \"\\\\\\\\\")\n",
    "for info in reverse_worst_samples_info:\n",
    "    print(info[\"best_value\"][\"cost\"], \"&\",\n",
    "          info[\"average_cost\"], \"&\", info[\"worst_value\"][\"cost\"], info[\"success_rate\"], \"\\\\\\\\\")\n"
   ]
  },
  {
   "cell_type": "code",
   "execution_count": null,
   "metadata": {},
   "outputs": [],
   "source": [
    "t = [(0, 20), (0, 5, 15, 20), (0, 5, 6, 20), (0, 9, 10, 20), (0, 19, 20)]\n",
    "s = [(0, 1), (0, 0.5, 0.5, 1), (0, 0.5, 1, 1), (0, 0.5, 1, 1), (0, 0.5, 1)]\n",
    "t2 = [(0, 5, 15, 20), (0, 5, 15, 20)]\n",
    "s2 = [(1.0, 0.4, 0.4, 1.0), (1, 0.2, 0.2, 1.0)]\n",
    "t_set = [t, t2]\n",
    "s_set = [s, s2]\n",
    "label = [[\"STD\", \"PAUSE\", \"QUENCH A\", \"QUENCH B\",\n",
    "          \"QUENCH C\"], [\"REVERSE A\", \"REVERSE B\"]]\n",
    "linestyle = [\"solid\", \"dotted\", \"dashed\",\n",
    "             \"dashdot\",  (0, (5, 5)), (0, (3, 1, 1, 1))]\n",
    "\n",
    "fig, ax = plt.subplots(1, 2)\n",
    "fig.set_figwidth(10)\n",
    "fig.tight_layout()\n",
    "\n",
    "for i in range(2):\n",
    "    for j in range(len(t_set[i])):\n",
    "        ax[i].plot(t_set[i][j], s_set[i][j], label=label[i]\n",
    "                   [j], linestyle=linestyle[j])\n",
    "\n",
    "        ax[i].set_xlabel(\"t\")\n",
    "        ax[i].set_ylabel(\"s\")\n",
    "        ax[i].legend(loc=0)\n",
    "plt.savefig(\"fixed-anneal_schedule.jpg\")\n",
    "\n",
    "\n",
    "t = [ (0, 5, 15, 20), (0, 19, 20), (0, 5, 15, 20)]\n",
    "s = [ (0, 0.5, 0.5, 1),  (0, 0.5, 1), (1.0, 0.4, 0.4, 1.0)]\n",
    "label = [\"PAUSE\", \"QUENCH\", \"REVERSE\"]\n",
    "fig, ax = plt.subplots()\n",
    "\n",
    "for i in range(len(t)):\n",
    "    ax.plot(t[i], s[i], label=label[i], linestyle=linestyle[i])\n",
    "    ax.set_xlabel(\"t [us]\")\n",
    "    ax.set_ylabel(\"s\")\n",
    "    ax.legend(loc=0)\n",
    "\n",
    "plt.savefig(\"fixed-example_schedules.jpg\")\n"
   ]
  },
  {
   "cell_type": "code",
   "execution_count": null,
   "metadata": {},
   "outputs": [],
   "source": [
    "t = [(0, 20), (0, 5, 15, 20), (0, 5, 6, 20), (0, 9, 10, 20), (0, 19, 20)]\n",
    "s = [(0, 1), (0, 0.5, 0.5, 1), (0, 0.5, 1, 1), (0, 0.5, 1, 1), (0, 0.5, 1)]\n",
    "plot_schedules(t, s, \"pause_quench_schedule.jpg\", [\n",
    "               \"std\", \"pause\", \"quench A\", \"quench B\", \"quench C\"])\n",
    "\n",
    "t = [(0, 5, 15, 20), (0, 5, 15, 20)]\n",
    "s = [(1.0, 0.4, 0.4, 1.0), (1, 0.2, 0.2, 1.0)]\n",
    "plot_schedules(t, s, \"reverse_anneal.jpg\", [\n",
    "               \"reverse A\", \"reverse B\"]) \n"
   ]
  },
  {
   "cell_type": "code",
   "execution_count": null,
   "metadata": {},
   "outputs": [],
   "source": [
    "s = [(0, 1), (0,1)]\n",
    "y = [(0, 1), (1,0)]\n",
    "\n",
    "label = [\"A(s)\",\"B(s)\"]\n",
    "linestyle = [\"solid\", \"dotted\", \"dashed\",\n",
    "             \"dashdot\",  (0, (5, 5)), (0, (3, 1, 1, 1))]\n",
    "\n",
    "fig, ax = plt.subplots()\n",
    "fig.set_figwidth(10)\n",
    "fig.tight_layout()\n",
    "\n",
    "for i in range(2):\n",
    "    for j in range(len(t_set[i])):\n",
    "        ax[i].plot(t_set[i][j], s_set[i][j], label=label[i]\n",
    "                   [j], linestyle=linestyle[j])\n",
    "\n",
    "        ax[i].set_xlabel(\"t\")\n",
    "        ax[i].set_ylabel(\"s\")\n",
    "        ax[i].legend(loc=0)\n",
    "plt.savefig(\"fn-A-B\")\n",
    "\n",
    "\n"
   ]
  }
 ],
 "metadata": {
  "kernelspec": {
   "display_name": "Python 3.10.6 ('study')",
   "language": "python",
   "name": "python3"
  },
  "language_info": {
   "codemirror_mode": {
    "name": "ipython",
    "version": 3
   },
   "file_extension": ".py",
   "mimetype": "text/x-python",
   "name": "python",
   "nbconvert_exporter": "python",
   "pygments_lexer": "ipython3",
   "version": "3.10.6"
  },
  "vscode": {
   "interpreter": {
    "hash": "f675e2dc9e15dd8b103d9b7fa322d6cdd3f22fe3f961a85b1e94427e742cf014"
   }
  }
 },
 "nbformat": 4,
 "nbformat_minor": 2
}
