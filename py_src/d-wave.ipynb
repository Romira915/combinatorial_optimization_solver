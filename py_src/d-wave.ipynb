{
 "cells": [
  {
   "cell_type": "code",
   "execution_count": 21,
   "metadata": {},
   "outputs": [],
   "source": [
    "import numpy as np\n",
    "from dotenv import load_dotenv\n",
    "from dwave.system import DWaveSampler, EmbeddingComposite\n",
    "from numpy import hamming\n",
    "from openjij import SQASampler\n",
    "import openjij\n",
    "from pyqubo import Array, Constraint, LogEncInteger, solve_qubo\n",
    "import math\n",
    "import os\n",
    "import dimod\n",
    "from minorminer import find_embedding\n",
    "from dwave.system import FixedEmbeddingComposite\n",
    "from dwave.embedding import embed_bqm\n",
    "from dwave.embedding import MinimizeEnergy\n",
    "from matplotlib import pyplot as plt\n",
    "import sklearn\n",
    "import itertools\n",
    "from copy import copy, deepcopy"
   ]
  },
  {
   "cell_type": "code",
   "execution_count": 22,
   "metadata": {},
   "outputs": [],
   "source": [
    "load_dotenv()\n",
    "\n",
    "TOKEN = os.getenv(\"TOKEN\")\n",
    "endpoint = \"https://cloud.dwavesys.com/sapi/\""
   ]
  },
  {
   "cell_type": "code",
   "execution_count": 23,
   "metadata": {},
   "outputs": [],
   "source": [
    "W = 50\n",
    "cost_list = [70,\n",
    "             20,\n",
    "             39,\n",
    "             37,\n",
    "             7,\n",
    "             5,\n",
    "             10, ]\n",
    "weight_list = [31,\n",
    "               10,\n",
    "               20,\n",
    "               19,\n",
    "               4,\n",
    "               3,\n",
    "               6, ]\n",
    "opt = [1,\n",
    "0,\n",
    "0,\n",
    "1,\n",
    "0,\n",
    "0,\n",
    "0]\n",
    "N = len(cost_list)"
   ]
  },
  {
   "cell_type": "code",
   "execution_count": 24,
   "metadata": {},
   "outputs": [],
   "source": [
    "x = Array.create('x', shape=(N), vartype='BINARY')\n",
    "y = LogEncInteger(\"y\", (0, W))"
   ]
  },
  {
   "cell_type": "code",
   "execution_count": 25,
   "metadata": {},
   "outputs": [],
   "source": [
    "# key1 = max(cost_list, key=lambda k: cost_list[k])\n",
    "max_c = max(cost_list)\n",
    "B = 1\n",
    "A = B * max_c + 1"
   ]
  },
  {
   "cell_type": "code",
   "execution_count": 26,
   "metadata": {},
   "outputs": [],
   "source": [
    "HA = Constraint(\n",
    "    A * (W - sum(weight_list[a] * x[a] for a in range(N)) - y)**2, label='HA'\n",
    ")\n",
    "\n",
    "HB = - B * sum(cost_list[a] * x[a] for a in range(N))"
   ]
  },
  {
   "cell_type": "code",
   "execution_count": 27,
   "metadata": {},
   "outputs": [],
   "source": [
    "H = HA + HB\n",
    "model = H.compile()\n",
    "Q, offset = model.to_qubo()"
   ]
  },
  {
   "cell_type": "code",
   "execution_count": 28,
   "metadata": {},
   "outputs": [],
   "source": [
    "dw_sampler = DWaveSampler(solver='DW_2000Q_6',\n",
    "                          token=TOKEN, endpoint=endpoint)\n",
    "adj = {}\n",
    "for k in Q.keys():\n",
    "    adj[k] = 1\n",
    "embedding = find_embedding(adj, dw_sampler.edgelist)\n",
    "# bqm_embed = embed_bqm(bqm, embedding, dw_sampler.adjacency)\n",
    "sampler = FixedEmbeddingComposite(dw_sampler, embedding)\n",
    "# sampler = EmbeddingComposite(dw_sampler)\n",
    "# sampleset_embed = dw_sampler.sample(bqm_embed, num_reads=10)"
   ]
  },
  {
   "cell_type": "code",
   "execution_count": 29,
   "metadata": {},
   "outputs": [
    {
     "name": "stdout",
     "output_type": "stream",
     "text": [
      "[[(0, 0), (20, 1)], [(0, 0), (10, 0), (20, 1)], [(0, 0), (5, 0.5), (15, 0.5), (20, 1)], [(0, 0), (10, 1), (20, 1)]]\n"
     ]
    }
   ],
   "source": [
    "t = [(0, 20), (0, 10, 20), (0, 5, 15, 20), (0, 10, 20)]\n",
    "s = [(0, 1), (0, 0, 1), (0, 0.5, 0.5, 1), (0, 1, 1)]\n",
    "\n",
    "schedules = [list(zip(t[i], s[i])) for i in range(len(t))]\n",
    "print(schedules)"
   ]
  },
  {
   "cell_type": "code",
   "execution_count": 30,
   "metadata": {},
   "outputs": [
    {
     "data": {
      "image/png": "[encoded data removed]",
      "text/plain": [
       "<Figure size 1440x288 with 4 Axes>"
      ]
     },
     "metadata": {
      "needs_background": "light"
     },
     "output_type": "display_data"
    }
   ],
   "source": [
    "fig, ax = plt.subplots(1, len(schedules))\n",
    "fig.set_figwidth(20)\n",
    "plt.tight_layout()\n",
    "for i in range(len(t)):\n",
    "    ax[i].plot(t[i], s[i])\n",
    "\n",
    "plt.savefig(\"output.jpg\")"
   ]
  },
  {
   "cell_type": "code",
   "execution_count": 32,
   "metadata": {},
   "outputs": [
    {
     "name": "stdout",
     "output_type": "stream",
     "text": [
      "annealing start\n",
      "annealing end\n",
      "annealing start\n",
      "annealing end\n",
      "annealing start\n",
      "annealing end\n",
      "annealing start\n",
      "annealing end\n"
     ]
    }
   ],
   "source": [
    "samplesets = []\n",
    "for schedule in schedules:\n",
    "    print(\"annealing start\")\n",
    "    samplesets.append(sampler.sample_qubo(\n",
    "        Q, num_reads=1000, anneal_schedule=schedule))\n",
    "    print(\"annealing end\")"
   ]
  },
  {
   "cell_type": "code",
   "execution_count": 33,
   "metadata": {},
   "outputs": [],
   "source": [
    "def transform_sample(sampleset, model):\n",
    "    decoded_sample = model.decode_sample(\n",
    "        sampleset.first.sample, vartype=\"BINARY\")\n",
    "\n",
    "    cost = 0\n",
    "    weight = 0\n",
    "    for k in range(N):\n",
    "        if decoded_sample.array('x', k) != 0:\n",
    "            cost += cost_list[k]\n",
    "            weight += weight_list[k]\n",
    "\n",
    "    sol_y = sum(2**k * v for k, v in [(elem, decoded_sample.array('y', elem))\n",
    "                                      for elem in range(math.ceil(math.log2(W)))])\n",
    "\n",
    "    return {\"slack_y\": sol_y, \"broken\": deepcopy(decoded_sample.constraints(only_broken=True)), \"cost\": cost, \"weight\": weight}\n",
    "\n",
    "def v_transform_sample(samplesets, model):\n",
    "    if type(samplesets) == list:\n",
    "        sample_info = []\n",
    "        for sampleset in samplesets:\n",
    "            sample_info.append(transform_sample(sampleset, model))\n",
    "        return sample_info\n",
    "    else:\n",
    "        return transform_sample(transform_sample(samplesets, model))"
   ]
  },
  {
   "cell_type": "code",
   "execution_count": 34,
   "metadata": {},
   "outputs": [],
   "source": [
    "def output_sample_info(sample_info):\n",
    "    print(\"slack_Y = {}\".format(sample_info[\"slack_y\"]))\n",
    "    print(\"broken: {}\".format(sample_info[\"broken\"]))\n",
    "    print(\"cost : \"+str(sample_info[\"cost\"]))\n",
    "    print(\"weight : \"+str(sample_info[\"weight\"]))\n",
    "    print()\n",
    "\n",
    "def v_output_sample_info(samples_info):\n",
    "    if type(samples_info) == list:\n",
    "        for sample_info in samples_info:\n",
    "            output_sample_info(sample_info)\n",
    "    else:\n",
    "        output_sample_info(samples_info)"
   ]
  },
  {
   "cell_type": "code",
   "execution_count": 35,
   "metadata": {},
   "outputs": [
    {
     "name": "stdout",
     "output_type": "stream",
     "text": [
      "slack_Y = 571\n",
      "broken: {'HA': (False, 241.0)}\n",
      "cost : 877\n",
      "weight : 453\n",
      "\n",
      "slack_Y = 75\n",
      "broken: {'HA': (False, 87001.0)}\n",
      "cost : 1325\n",
      "weight : 694\n",
      "\n",
      "slack_Y = 666\n",
      "broken: {'HA': (False, 964.0)}\n",
      "cost : 685\n",
      "weight : 355\n",
      "\n",
      "slack_Y = 8\n",
      "broken: {'HA': (False, 964.0)}\n",
      "cost : 1430\n",
      "weight : 744\n",
      "\n"
     ]
    }
   ],
   "source": [
    "sample_info = v_transform_sample(samplesets, model)\n",
    "v_output_sample_info(sample_info)"
   ]
  },
  {
   "cell_type": "markdown",
   "metadata": {},
   "source": [
    "## リバースアニーリング"
   ]
  },
  {
   "cell_type": "code",
   "execution_count": null,
   "metadata": {},
   "outputs": [],
   "source": [
    "init = samplesets[0].samples()[-1]"
   ]
  },
  {
   "cell_type": "code",
   "execution_count": null,
   "metadata": {},
   "outputs": [],
   "source": [
    "t = (0, 5, 20)\n",
    "s = (1.0, 0.4, 1.0)\n",
    "\n",
    "schedule = list(zip(t, s))"
   ]
  },
  {
   "cell_type": "code",
   "execution_count": null,
   "metadata": {},
   "outputs": [],
   "source": [
    "plt.plot(t,s)\n",
    "plt.show()"
   ]
  },
  {
   "cell_type": "code",
   "execution_count": null,
   "metadata": {},
   "outputs": [],
   "source": [
    "sampleset = sampler.sample_qubo(\n",
    "    Q, num_reads=30, anneal_schedule=schedule, initial_state=init)"
   ]
  },
  {
   "cell_type": "code",
   "execution_count": null,
   "metadata": {},
   "outputs": [],
   "source": [
    "sampleset.record"
   ]
  },
  {
   "cell_type": "code",
   "execution_count": null,
   "metadata": {},
   "outputs": [],
   "source": [
    "sample_info = transform_sample(sampleset)\n",
    "output_sample_info(sample_info)"
   ]
  }
 ],
 "metadata": {
  "kernelspec": {
   "display_name": "Python 3.9.5 ('D_wave')",
   "language": "python",
   "name": "python3"
  },
  "language_info": {
   "codemirror_mode": {
    "name": "ipython",
    "version": 3
   },
   "file_extension": ".py",
   "mimetype": "text/x-python",
   "name": "python",
   "nbconvert_exporter": "python",
   "pygments_lexer": "ipython3",
   "version": "3.9.5"
  },
  "orig_nbformat": 4,
  "vscode": {
   "interpreter": {
    "hash": "c3ebc3f4db919b1094481e65c707023a518e20f62298bc6147dab11826b15250"
   }
  }
 },
 "nbformat": 4,
 "nbformat_minor": 2
}
