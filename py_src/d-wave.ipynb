{
 "cells": [
  {
   "cell_type": "code",
   "execution_count": 198,
   "metadata": {},
   "outputs": [],
   "source": [
    "import numpy as np\n",
    "from dotenv import load_dotenv\n",
    "from dwave.system import DWaveSampler, EmbeddingComposite\n",
    "from numpy import hamming\n",
    "from openjij import SQASampler\n",
    "import openjij\n",
    "from pyqubo import Array, Constraint, LogEncInteger, solve_qubo\n",
    "import math\n",
    "import os\n",
    "import dimod\n",
    "from minorminer import find_embedding\n",
    "from dwave.system import FixedEmbeddingComposite\n",
    "from dwave.embedding import embed_bqm\n",
    "from dwave.embedding import MinimizeEnergy\n",
    "from matplotlib import pyplot as plt\n",
    "import sklearn\n",
    "import itertools"
   ]
  },
  {
   "cell_type": "code",
   "execution_count": 199,
   "metadata": {},
   "outputs": [],
   "source": [
    "load_dotenv()\n",
    "\n",
    "TOKEN = os.getenv(\"TOKEN\")\n",
    "endpoint = \"https://cloud.dwavesys.com/sapi/\""
   ]
  },
  {
   "cell_type": "code",
   "execution_count": 200,
   "metadata": {},
   "outputs": [],
   "source": [
    "W = 750\n",
    "cost_list = [135,\n",
    "        139,\n",
    "        149,\n",
    "        150,\n",
    "        156,\n",
    "        163,\n",
    "        173,\n",
    "        184,\n",
    "        192,\n",
    "        201,\n",
    "        210,\n",
    "        214,\n",
    "        221,\n",
    "        229,\n",
    "        240, ]\n",
    "weight_list = [70,\n",
    "          73,\n",
    "          77,\n",
    "          80,\n",
    "          82,\n",
    "          87,\n",
    "          90,\n",
    "          94,\n",
    "          98,\n",
    "          106,\n",
    "          110,\n",
    "          113,\n",
    "          115,\n",
    "          118,\n",
    "          120, ]\n",
    "opt = [1,\n",
    "       0,\n",
    "       1,\n",
    "       0,\n",
    "       1,\n",
    "       0,\n",
    "       1,\n",
    "       1,\n",
    "       1,\n",
    "       0,\n",
    "       0,\n",
    "       0,\n",
    "       0,\n",
    "       1,\n",
    "       1]\n",
    "N = len(cost_list)"
   ]
  },
  {
   "cell_type": "code",
   "execution_count": 201,
   "metadata": {},
   "outputs": [],
   "source": [
    "x = Array.create('x', shape=(N), vartype='BINARY')\n",
    "y = LogEncInteger(\"y\", (0, W))"
   ]
  },
  {
   "cell_type": "code",
   "execution_count": 202,
   "metadata": {},
   "outputs": [],
   "source": [
    "# key1 = max(cost_list, key=lambda k: cost_list[k])\n",
    "max_c = max(cost_list)\n",
    "B = 1\n",
    "A = B * max_c + 1"
   ]
  },
  {
   "cell_type": "code",
   "execution_count": 203,
   "metadata": {},
   "outputs": [],
   "source": [
    "HA = Constraint(\n",
    "    A * (W - sum(weight_list[a] * x[a] for a in range(N)) - y)**2, label='HA'\n",
    ")\n",
    "\n",
    "HB = - B * sum(cost_list[a] * x[a] for a in range(N))"
   ]
  },
  {
   "cell_type": "code",
   "execution_count": 204,
   "metadata": {},
   "outputs": [],
   "source": [
    "H = HA + HB\n",
    "model = H.compile()\n",
    "Q, offset = model.to_qubo()"
   ]
  },
  {
   "cell_type": "code",
   "execution_count": 205,
   "metadata": {},
   "outputs": [],
   "source": [
    "dw_sampler = DWaveSampler(solver='DW_2000Q_6',\n",
    "                          token=TOKEN, endpoint=endpoint)\n",
    "adj = {}\n",
    "for k in Q.keys():\n",
    "    adj[k] = 1\n",
    "embedding = find_embedding(adj, dw_sampler.edgelist)\n",
    "# bqm_embed = embed_bqm(bqm, embedding, dw_sampler.adjacency)\n",
    "sampler = FixedEmbeddingComposite(dw_sampler, embedding)\n",
    "# sampler = EmbeddingComposite(dw_sampler)\n",
    "# sampleset_embed = dw_sampler.sample(bqm_embed, num_reads=10)"
   ]
  },
  {
   "cell_type": "code",
   "execution_count": 231,
   "metadata": {},
   "outputs": [
    {
     "name": "stdout",
     "output_type": "stream",
     "text": [
      "[[(0, 0), (20, 1)], [(0, 0), (5, 0.5), (10, 0.5), (20, 1)], [(0, 0), (5, 0), (20, 1)], [(0, 0), (10, 0.75), (15, 0.75), (20, 1)]]\n"
     ]
    }
   ],
   "source": [
    "t = [(0, 20), (0, 5, 10, 20), (0, 5, 20), (0, 10, 15, 20)]\n",
    "s = [(0, 1), (0, 0.5, 0.5, 1), (0, 0, 1), (0, 0.75, 0.75, 1)]\n",
    "\n",
    "schedules = [list(zip(t[i], s[i])) for i in range(len(t))]\n",
    "print(schedules)"
   ]
  },
  {
   "cell_type": "code",
   "execution_count": 215,
   "metadata": {},
   "outputs": [],
   "source": [
    "samplesets = []\n",
    "for schedule in schedules:\n",
    "    samplesets.append(sampler.sample_qubo(\n",
    "        Q, num_reads=1, anneal_schedule=schedule))"
   ]
  },
  {
   "cell_type": "code",
   "execution_count": 223,
   "metadata": {},
   "outputs": [],
   "source": [
    "def transform_sample(sampleset, model):\n",
    "    decoded_sample = model.decode_sample(\n",
    "        sampleset.first.sample, vartype=\"BINARY\")\n",
    "\n",
    "    cost = 0\n",
    "    weight = 0\n",
    "    for k in range(N):\n",
    "        if decoded_sample.array('x', k) != 0:\n",
    "            cost += cost_list[k]\n",
    "            weight += weight_list[k]\n",
    "\n",
    "    sol_y = sum(2**k * v for k, v in [(elem, decoded_sample.array('y', elem))\n",
    "                                      for elem in range(math.ceil(math.log2(W)))])\n",
    "\n",
    "    return {\"slack_y\": sol_y, \"broken\": decoded_sample.constraints(only_broken=True), \"cost\": cost, \"weight\": weight}\n",
    "\n",
    "v_transform_sample = np.vectorize(transform_sample)"
   ]
  },
  {
   "cell_type": "code",
   "execution_count": 226,
   "metadata": {},
   "outputs": [],
   "source": [
    "def output_sample_info(sample_info):\n",
    "    print(\"slack_Y = {}\".format(sample_info[\"slack_y\"]))\n",
    "    print(\"broken: {}\".format(sample_info[\"broken\"]))\n",
    "    print(\"cost : \"+str(sample_info[\"cost\"]))\n",
    "    print(\"weight : \"+str(sample_info[\"weight\"]))\n",
    "    print()\n",
    "\n",
    "v_output_sample_info = np.vectorize(output_sample_info)"
   ]
  },
  {
   "cell_type": "code",
   "execution_count": 227,
   "metadata": {},
   "outputs": [
    {
     "name": "stdout",
     "output_type": "stream",
     "text": [
      "slack_Y = 327\n",
      "broken: {'HA': (False, 13766161.0)}\n",
      "cost : 1267\n",
      "weight : 662\n",
      "\n",
      "slack_Y = 327\n",
      "broken: {'HA': (False, 13766161.0)}\n",
      "cost : 1267\n",
      "weight : 662\n",
      "\n",
      "slack_Y = 337\n",
      "broken: {'HA': (False, 14942241.0)}\n",
      "cost : 1267\n",
      "weight : 662\n",
      "\n"
     ]
    },
    {
     "data": {
      "text/plain": [
       "array([None, None], dtype=object)"
      ]
     },
     "execution_count": 227,
     "metadata": {},
     "output_type": "execute_result"
    }
   ],
   "source": [
    "sample_info = v_transform_sample(samplesets, model)\n",
    "v_output_sample_info(sample_info)"
   ]
  },
  {
   "cell_type": "code",
   "execution_count": null,
   "metadata": {},
   "outputs": [],
   "source": [
    "init = samplesets[0].samples()[-1]"
   ]
  },
  {
   "cell_type": "markdown",
   "metadata": {},
   "source": [
    "## リバースアニーリング"
   ]
  },
  {
   "cell_type": "code",
   "execution_count": null,
   "metadata": {},
   "outputs": [],
   "source": [
    "t = (0, 5, 20)\n",
    "s = (1.0, 0.4, 1.0)\n",
    "\n",
    "schedule = list(zip(t, s))"
   ]
  },
  {
   "cell_type": "code",
   "execution_count": null,
   "metadata": {},
   "outputs": [],
   "source": [
    "plt.plot(t,s)\n",
    "plt.show()"
   ]
  },
  {
   "cell_type": "code",
   "execution_count": null,
   "metadata": {},
   "outputs": [],
   "source": [
    "sampleset = sampler.sample_qubo(\n",
    "    Q, num_reads=30, anneal_schedule=schedule, initial_state=init)"
   ]
  },
  {
   "cell_type": "code",
   "execution_count": null,
   "metadata": {},
   "outputs": [],
   "source": [
    "sampleset.record"
   ]
  },
  {
   "cell_type": "code",
   "execution_count": null,
   "metadata": {},
   "outputs": [],
   "source": [
    "sample_info = transform_sample(sampleset)\n",
    "output_sample_info(sample_info)"
   ]
  }
 ],
 "metadata": {
  "kernelspec": {
   "display_name": "Python 3.10.4 ('reserach')",
   "language": "python",
   "name": "python3"
  },
  "language_info": {
   "codemirror_mode": {
    "name": "ipython",
    "version": 3
   },
   "file_extension": ".py",
   "mimetype": "text/x-python",
   "name": "python",
   "nbconvert_exporter": "python",
   "pygments_lexer": "ipython3",
   "version": "3.10.4"
  },
  "orig_nbformat": 4,
  "vscode": {
   "interpreter": {
    "hash": "b20928de7eb579c6f48ae3119c25db6b3605e1ed7ce240543c84418603b25332"
   }
  }
 },
 "nbformat": 4,
 "nbformat_minor": 2
}
